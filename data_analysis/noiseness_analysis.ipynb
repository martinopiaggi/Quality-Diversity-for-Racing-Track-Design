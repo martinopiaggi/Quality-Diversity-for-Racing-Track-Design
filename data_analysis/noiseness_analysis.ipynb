{
 "cells": [
  {
   "cell_type": "markdown",
   "metadata": {},
   "source": [
    "# Noiseness analysis"
   ]
  },
  {
   "cell_type": "markdown",
   "metadata": {},
   "source": [
    "These cells assume that each JSON file is named in the form \"seed_iteration\" (for example, \"23_1.json\", \"23_2.json\", …, \"23_10.json\") and that each file contains fitness data for a simulation run on a fixed track (the seed). \n",
    "This approach lets you compute the noisiness and the variability across simulation runs for the same track -> to quantify how stable or noisy each track’s outcomes are."
   ]
  },
  {
   "cell_type": "code",
   "execution_count": null,
   "metadata": {},
   "outputs": [],
   "source": [
    "import os\n",
    "import json\n",
    "import pandas as pd\n",
    "\n",
    "DATA_DIR = './tests'\n",
    "records = []\n",
    "\n",
    "for fname in os.listdir(DATA_DIR):\n",
    "    if fname.endswith('.json'):\n",
    "        try:\n",
    "            base, _ = os.path.splitext(fname)\n",
    "            parts = base.split('_')\n",
    "            if len(parts) < 2:\n",
    "                continue\n",
    "            seed = parts[0]\n",
    "            iteration = parts[1]\n",
    "            with open(os.path.join(DATA_DIR, fname), 'r', encoding='utf-8') as f:\n",
    "                data = json.load(f)\n",
    "            fitness = data.get('fitness')\n",
    "            if fitness is None:\n",
    "                continue\n",
    "            fitness['seed'] = int(seed)\n",
    "            fitness['iteration'] = int(iteration)\n",
    "            records.append(fitness)\n",
    "        except Exception as e:\n",
    "            print(f\"Error reading {fname}: {e}\")\n",
    "\n",
    "df = pd.DataFrame(records)\n",
    "print(\"Loaded Data:\")\n",
    "print(df.head())"
   ]
  },
  {
   "cell_type": "markdown",
   "metadata": {},
   "source": [
    "Compute descriptive statistics grouped by seed. This lets you quantify the noisiness (variance and standard deviation) of the features for each fixed track."
   ]
  },
  {
   "cell_type": "code",
   "execution_count": null,
   "metadata": {},
   "outputs": [],
   "source": [
    "features = [col for col in df.columns if col not in ['seed', 'iteration']]\n",
    "group_stats = df.groupby('seed')[features].agg(['mean', 'std']).reset_index()\n",
    "group_stats.columns = ['_'.join(col).strip('_') for col in group_stats.columns.values]\n",
    "print(\"Grouped Statistics:\")\n",
    "print(group_stats.head())"
   ]
  },
  {
   "cell_type": "markdown",
   "metadata": {},
   "source": [
    "Visualize the noisiness for selected features with error bar plots. Each plot shows the mean and standard deviation for the given feature across simulation runs for each fixed track (seed)."
   ]
  },
  {
   "cell_type": "code",
   "execution_count": null,
   "metadata": {},
   "outputs": [],
   "source": [
    "import matplotlib.pyplot as plt\n",
    "\n",
    "for metric in [\"speed_entropy\", \"gaps_mean\", \"curvature_entropy\"]:\n",
    "    plt.figure(figsize=(10, 4))\n",
    "    mean_col = f\"{metric}_mean\"\n",
    "    std_col = f\"{metric}_std\"\n",
    "    plt.errorbar(group_stats[\"seed\"], group_stats[mean_col], yerr=group_stats[std_col], fmt=\"o\", capsize=3)\n",
    "    plt.xlabel(\"Track Seed\")\n",
    "    plt.ylabel(metric)\n",
    "    plt.title(f\"Noisiness Analysis: {metric}\")\n",
    "    plt.show()\n"
   ]
  },
  {
   "cell_type": "markdown",
   "metadata": {},
   "source": [
    "compute the correlation matrix for all numeric features (including your candidate fitness measure) and visualize it with a heatmap."
   ]
  },
  {
   "cell_type": "code",
   "execution_count": null,
   "metadata": {},
   "outputs": [],
   "source": [
    "import matplotlib.pyplot as plt\n",
    "import numpy as np\n",
    "\n",
    "corr = df.select_dtypes(include=[float, int]).corr()\n",
    "print(\"Correlation Matrix:\")\n",
    "print(corr)\n",
    "\n",
    "plt.figure(figsize=(10, 8))\n",
    "cax = plt.imshow(corr, cmap='coolwarm', interpolation='nearest')\n",
    "plt.title(\"Correlation Matrix with Fitness Measures\")\n",
    "plt.colorbar(cax, fraction=0.046, pad=0.04)\n",
    "ticks = np.arange(len(corr.columns))\n",
    "plt.xticks(ticks, corr.columns, rotation=90)\n",
    "plt.yticks(ticks, corr.columns)\n",
    "plt.tight_layout()\n",
    "plt.show()"
   ]
  },
  {
   "cell_type": "code",
   "execution_count": null,
   "metadata": {},
   "outputs": [],
   "source": [
    "threshold = 0.7\n",
    "print(\"\\nSignificant Correlations (|r| >= {:.1f}):\".format(threshold))\n",
    "for i in range(len(corr.columns)):\n",
    "    for j in range(i + 1, len(corr.columns)):\n",
    "        if abs(corr.iloc[i, j]) >= threshold:\n",
    "            print(f\"{corr.columns[i]} & {corr.columns[j]}: {corr.iloc[i, j]:.2f}\")\n"
   ]
  },
  {
   "cell_type": "markdown",
   "metadata": {},
   "source": [
    "# Dimensionality Reduction & Visual Mapping"
   ]
  }
 ],
 "metadata": {
  "kernelspec": {
   "display_name": "Python 3",
   "language": "python",
   "name": "python3"
  },
  "language_info": {
   "codemirror_mode": {
    "name": "ipython",
    "version": 3
   },
   "file_extension": ".py",
   "mimetype": "text/x-python",
   "name": "python",
   "nbconvert_exporter": "python",
   "pygments_lexer": "ipython3",
   "version": "3.12.9"
  }
 },
 "nbformat": 4,
 "nbformat_minor": 2
}
