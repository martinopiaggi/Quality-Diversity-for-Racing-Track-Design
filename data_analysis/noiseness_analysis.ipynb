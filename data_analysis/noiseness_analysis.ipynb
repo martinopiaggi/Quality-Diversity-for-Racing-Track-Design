{
 "cells": [
  {
   "cell_type": "markdown",
   "metadata": {},
   "source": [
    "# Noiseness analysis"
   ]
  },
  {
   "cell_type": "code",
   "execution_count": null,
   "metadata": {},
   "outputs": [],
   "source": [
    "import requests\n",
    "\n"
   ]
  },
  {
   "cell_type": "code",
   "execution_count": null,
   "metadata": {},
   "outputs": [],
   "source": [
    "BASE_URL = 'http://localhost:4242'\n",
    "POINTS_COUNT = 50\n",
    "MAX_SELECTED_CELLS = 10\n",
    "SOLUTION_DIM = POINTS_COUNT * 2 + MAX_SELECTED_CELLS * 2 + 1 \n",
    "TRACK_SIZE_RANGE = (2, 6)\n",
    "LENGTH_RANGE = (400, 2000)\n",
    "ITERATIONS = 500\n",
    "ARCHIVE_DIM = 3\n",
    "INIT_POPULATION = ARCHIVE_DIM * ARCHIVE_DIM \n",
    "\n",
    "DEBUG_CROSSOVER = True\n",
    "DEBUG_MUTATION = True"
   ]
  },
  {
   "cell_type": "code",
   "execution_count": null,
   "metadata": {},
   "outputs": [],
   "source": [
    "def evaluate_solution_full(sol):\n",
    "    solution_id = sol.get(\"id\", 0)\n",
    "    try:\n",
    "        response = requests.post(\n",
    "            f\"{BASE_URL}/evaluate\",\n",
    "            json=sol,\n",
    "            timeout=60\n",
    "        )\n",
    "        response.raise_for_status()\n",
    "        fitness = response.json().get(\"fitness\", {})\n",
    "        return solution_id, True, \"\", fitness\n",
    "    except (requests.RequestException, ValueError) as e:\n",
    "        return solution_id, False, str(e), {}\n"
   ]
  },
  {
   "cell_type": "code",
   "execution_count": null,
   "metadata": {},
   "outputs": [],
   "source": [
    "def generate_solution_fixed(track_id, track_size):\n",
    "    try:\n",
    "        response = requests.post(\n",
    "            f\"{BASE_URL}/generate\",\n",
    "            json={\n",
    "                \"id\": track_id,\n",
    "                \"mode\": \"voronoi\",\n",
    "                \"trackSize\": track_size\n",
    "            },\n",
    "            timeout=60\n",
    "        )\n",
    "        response.raise_for_status()\n",
    "        return response.json()\n",
    "    except requests.RequestException as e:\n",
    "        print(f\"Error generating fixed solution for track {track_id}: {e}\")\n",
    "        return None\n"
   ]
  },
  {
   "cell_type": "code",
   "execution_count": null,
   "metadata": {},
   "outputs": [],
   "source": [
    "def run_noisiness_full_for_track(track_id, track_size, num_iterations=10):\n",
    "    results = []\n",
    "    for i in range(num_iterations):\n",
    "        sol = generate_solution_fixed(track_id, track_size)\n",
    "        if sol is None:\n",
    "            continue\n",
    "        sol_id, success, msg, fitness = evaluate_solution_full(sol)\n",
    "        if not success:\n",
    "            print(f\"Evaluation failed for track {track_id} iteration {i}: {msg}\")\n",
    "            continue\n",
    "        record = {\"track_id\": track_id, \"iteration\": i}\n",
    "        record.update(fitness)\n",
    "        results.append(record)\n",
    "    return results\n"
   ]
  },
  {
   "cell_type": "code",
   "execution_count": null,
   "metadata": {},
   "outputs": [],
   "source": [
    "all_results = []\n",
    "num_tracks = 100\n",
    "num_iterations = 10\n",
    "fixed_track_size = 4\n",
    "\n",
    "for t in range(1, num_tracks + 1):\n",
    "    track_results = run_noisiness_full_for_track(t, fixed_track_size, num_iterations)\n",
    "    if track_results:\n",
    "        all_results.extend(track_results)\n",
    "\n",
    "df_features = pd.DataFrame(all_results)\n",
    "print(df_features.head())\n"
   ]
  },
  {
   "cell_type": "code",
   "execution_count": null,
   "metadata": {},
   "outputs": [],
   "source": [
    "metrics = [col for col in df_features.columns if col not in [\"track_id\", \"iteration\"]]\n",
    "stats = df_features.groupby(\"track_id\")[metrics].agg([\"mean\", \"std\"]).reset_index()\n",
    "# Flatten multi-index columns\n",
    "stats.columns = [\"_\".join(col).strip(\"_\") for col in stats.columns.values]\n",
    "print(stats.head())"
   ]
  },
  {
   "cell_type": "code",
   "execution_count": null,
   "metadata": {},
   "outputs": [],
   "source": [
    "for metric in [\"speed_entropy\", \"gaps_mean\", \"curvature_entropy\"]:\n",
    "    plt.figure(figsize=(10, 4))\n",
    "    mean_col = f\"{metric}_mean\"\n",
    "    std_col = f\"{metric}_std\"\n",
    "    plt.errorbar(stats[\"track_id\"], stats[mean_col], yerr=stats[std_col], fmt=\"o\", capsize=3)\n",
    "    plt.xlabel(\"Track ID\")\n",
    "    plt.ylabel(metric)\n",
    "    plt.title(f\"Noisiness Analysis: {metric}\")\n",
    "    plt.show()"
   ]
  }
 ],
 "metadata": {
  "kernelspec": {
   "display_name": "Python 3",
   "language": "python",
   "name": "python3"
  },
  "language_info": {
   "codemirror_mode": {
    "name": "ipython",
    "version": 3
   },
   "file_extension": ".py",
   "mimetype": "text/x-python",
   "name": "python",
   "nbconvert_exporter": "python",
   "pygments_lexer": "ipython3",
   "version": "3.12.9"
  }
 },
 "nbformat": 4,
 "nbformat_minor": 2
}
