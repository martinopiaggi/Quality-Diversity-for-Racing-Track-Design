{
 "cells": [
  {
   "cell_type": "markdown",
   "metadata": {},
   "source": [
    "# MAP-Elites track generations"
   ]
  },
  {
   "cell_type": "code",
   "execution_count": 1,
   "metadata": {},
   "outputs": [],
   "source": [
    "import numpy as np\n",
    "import requests\n",
    "import json\n",
    "import random\n",
    "from ribs.archives import GridArchive\n",
    "from ribs.emitters import EmitterBase\n",
    "from ribs.schedulers import Scheduler\n",
    "from ribs.visualize import grid_archive_heatmap\n",
    "import matplotlib.pyplot as plt\n",
    "\n",
    "\n",
    "from dask.distributed import Client, LocalCluster\n",
    "\n",
    "\n",
    "import logging\n",
    "\n",
    "logging.basicConfig(level=logging.INFO)\n",
    "logger = logging.getLogger(__name__)"
   ]
  },
  {
   "cell_type": "code",
   "execution_count": 2,
   "metadata": {},
   "outputs": [],
   "source": [
    "# Set up Dask client\n",
    "cluster = LocalCluster(processes=True, n_workers=12, threads_per_worker=1)\n",
    "client = Client(cluster)"
   ]
  },
  {
   "cell_type": "code",
   "execution_count": 3,
   "metadata": {},
   "outputs": [],
   "source": [
    "# Server JS which exposes the trackGenerations and genetic operators \n",
    "BASE_URL = 'http://localhost:4242'\n",
    "POINTS_COUNT = 50\n",
    "MAX_SELECTED_CELLS = 10\n",
    "SOLUTION_DIM = POINTS_COUNT * 2 + MAX_SELECTED_CELLS * 2 + 1 \n",
    "TRACK_SIZE_RANGE = (2, 5)\n",
    "LENGTH_RANGE = (400, 2000)\n",
    "\n",
    "\n",
    "# MapElite parameters\n",
    "ITERATIONS = 100;\n",
    "ARCHIVE_DIM = 4;\n",
    "INIT_POPULATION = ARCHIVE_DIM * ARCHIVE_DIM \n",
    "MAX_RETRIES = 10 # Maximum number of retries to get a valid solution\n",
    "\n",
    "# debug flags\n",
    "DEBUG_CROSSOVER = True\n",
    "DEBUG_MUTATION = True"
   ]
  },
  {
   "cell_type": "markdown",
   "metadata": {},
   "source": [
    "### Helper functions"
   ]
  },
  {
   "cell_type": "code",
   "execution_count": 4,
   "metadata": {},
   "outputs": [],
   "source": [
    "def generate_solution(iteration):\n",
    "    response = requests.post(f'{BASE_URL}/generate', json={\n",
    "        \"id\": iteration + random.random(),\n",
    "        \"mode\": \"voronoi\",\n",
    "        \"trackSize\": random.randint(TRACK_SIZE_RANGE[0], TRACK_SIZE_RANGE[1])\n",
    "    })\n",
    "    response.raise_for_status()\n",
    "    return response.json()\n",
    "    \n",
    "def solution_to_array(solution):\n",
    "    array = np.zeros(SOLUTION_DIM)\n",
    "    # Fill in dataSet\n",
    "    for i, point in enumerate(solution[\"dataSet\"]):\n",
    "        array[i*2] = point[\"x\"]\n",
    "        array[i*2 + 1] = point[\"y\"]\n",
    "    # Fill in selectedCells\n",
    "    for i, cell in enumerate(solution[\"selectedCells\"]):\n",
    "        if i < MAX_SELECTED_CELLS:\n",
    "            array[POINTS_COUNT*2 + i*2] = cell[\"x\"]\n",
    "            array[POINTS_COUNT*2 + i*2 + 1] = cell[\"y\"]\n",
    "    array[-1] = solution[\"id\"]\n",
    "    return array\n",
    "\n",
    "def array_to_solution(array):\n",
    "    dataSet = [{\"x\": float(array[i]), \"y\": float(array[i+1])} for i in range(0, POINTS_COUNT*2, 2)]\n",
    "    selectedCells = [{\"x\": float(array[i]), \"y\": float(array[i+1])} \n",
    "                     for i in range(POINTS_COUNT*2, SOLUTION_DIM-1, 2) \n",
    "                     if array[i] != 0 or array[i+1] != 0]\n",
    "    \n",
    "    return {\n",
    "        \"id\": float(array[-1]),\n",
    "        \"mode\": \"voronoi\",\n",
    "        \"dataSet\": dataSet,\n",
    "        \"selectedCells\": selectedCells\n",
    "    }\n",
    "\n",
    "def get_fractional_part(id_value):\n",
    "    return id_value - int(id_value)\n",
    "\n",
    "def evaluate_solution(solution):\n",
    "    try:\n",
    "        response = requests.post(f'{BASE_URL}/evaluate', json=solution)\n",
    "        response.raise_for_status()\n",
    "        result = response.json()\n",
    "        fitness = result['fitness']\n",
    "        objective = -(fitness['deltaX'] + fitness['deltaY'])\n",
    "        measures = [len(solution['selectedCells']), fitness['length']]\n",
    "        return objective, measures\n",
    "    except requests.RequestException as e:\n",
    "        print(f\"Error in evaluate_solution: {e}\")\n",
    "        return -np.inf, [TRACK_SIZE_RANGE[0], LENGTH_RANGE[0]]"
   ]
  },
  {
   "cell_type": "markdown",
   "metadata": {},
   "source": [
    "## Genetic operators"
   ]
  },
  {
   "cell_type": "code",
   "execution_count": 5,
   "metadata": {},
   "outputs": [],
   "source": [
    "class CustomEmitter(EmitterBase):\n",
    "    def __init__(self, archive, solution_dim, batch_size=ARCHIVE_DIM, bounds=None):\n",
    "        super().__init__(archive, solution_dim=solution_dim, bounds=bounds)\n",
    "        self.batch_size = batch_size\n",
    "        self.iteration = 0\n",
    "\n",
    "    def ask(self):\n",
    "        self.iteration += 1\n",
    "        if self.iteration <= INIT_POPULATION: \n",
    "            return np.array([solution_to_array(generate_solution(self.iteration-1)) for _ in range(self.batch_size)])\n",
    "        elif np.random.random() < 0.5:  # Mutation\n",
    "            return self.mutate_solutions()\n",
    "        else:  # Crossover\n",
    "            return self.crossover_solutions()\n",
    "\n",
    "    def generate_initial_solutions(self):\n",
    "        return np.array([solution_to_array(generate_solution(self.iteration-1)) for _ in range(self.batch_size)])\n",
    "\n",
    "\n",
    "    def mutate_solutions(self):\n",
    "        parents_data = self.archive.sample_elites(self.batch_size)\n",
    "        mutated = []\n",
    "\n",
    "        for i in range(self.batch_size):\n",
    "            solution = parents_data['solution'][i]\n",
    "            parent_dict = array_to_solution(solution)\n",
    "\n",
    "            response = requests.post(f'{BASE_URL}/mutate', json={\n",
    "                \"individual\": parent_dict,\n",
    "                \"intensityMutation\": 10\n",
    "            })\n",
    "            response.raise_for_status()\n",
    "            mutated_dict = response.json()['mutated']\n",
    "            \n",
    "            # Keep the same ID for mutations, just update the iteration part\n",
    "            parent_frac = get_fractional_part(parent_dict['id'])\n",
    "            mutated_dict['id'] = self.iteration - 1 + parent_frac\n",
    "            \n",
    "            mutated.append(solution_to_array(mutated_dict))\n",
    "\n",
    "        return np.array(mutated)\n",
    "\n",
    "    def crossover_solutions(self):\n",
    "        offspring = []\n",
    "        for i in range(self.batch_size // 2):\n",
    "            parents = self.archive.sample_elites(2)\n",
    "            \n",
    "            parent1 = array_to_solution(parents['solution'][0])\n",
    "            parent2 = array_to_solution(parents['solution'][1])\n",
    "            \n",
    "            response = requests.post(f'{BASE_URL}/crossover', json={\n",
    "                \"mode\": \"voronoi\",\n",
    "                \"parent1\": parent1,\n",
    "                \"parent2\": parent2\n",
    "            })\n",
    "            response.raise_for_status()\n",
    "            children = response.json()['offspring']\n",
    "            # Create a new ID based on parents' IDs\n",
    "            parent1_frac = get_fractional_part(parent1['id'])\n",
    "            parent2_frac = get_fractional_part(parent2['id'])\n",
    "            child_frac = (parent1_frac + parent2_frac) % 1  # Ensure it's between 0 and 1\n",
    "            new_id = self.iteration - 1 + child_frac\n",
    "            \n",
    "            child = {\n",
    "                \"id\": new_id,\n",
    "                \"mode\": \"voronoi\",\n",
    "                \"trackSize\": len(children['sel']),\n",
    "                \"dataSet\": children['ds'],\n",
    "                \"selectedCells\": children['sel']\n",
    "            }\n",
    "            \n",
    "            offspring.append(solution_to_array(child))\n",
    "            if DEBUG_CROSSOVER:\n",
    "                logger.info(f\"Crossover {i+1}, Child: Parent1 ID {parent1['id']}, Parent2 ID {parent2['id']}, Child ID {new_id}\")\n",
    "        \n",
    "        return np.array(offspring)"
   ]
  },
  {
   "cell_type": "markdown",
   "metadata": {},
   "source": [
    "## Illuminating search spaces by mapping elites\n"
   ]
  },
  {
   "cell_type": "code",
   "execution_count": 6,
   "metadata": {},
   "outputs": [],
   "source": [
    "import sys\n",
    "import numpy as np\n",
    "import logging\n",
    "\n",
    "def run_map_elites(iterations):\n",
    "    archive = GridArchive(solution_dim=SOLUTION_DIM,\n",
    "                          dims=[ARCHIVE_DIM, ARCHIVE_DIM],\n",
    "                          ranges=[TRACK_SIZE_RANGE, LENGTH_RANGE])\n",
    "\n",
    "    emitter = CustomEmitter(archive,\n",
    "                            solution_dim=SOLUTION_DIM,\n",
    "                            batch_size=INIT_POPULATION,\n",
    "                            bounds=[(0, 600)] * (SOLUTION_DIM - 1) + [(0, float('inf'))])\n",
    "\n",
    "    scheduler = Scheduler(archive, [emitter])\n",
    "\n",
    "    for itr in range(iterations):\n",
    "        try:\n",
    "            solution_batch = scheduler.ask()\n",
    "            \n",
    "            # Use Dask for parallel evaluation\n",
    "            futures = client.map(evaluate_solution, [array_to_solution(sol) for sol in solution_batch])\n",
    "            results = client.gather(futures)\n",
    "\n",
    "            objectives = []\n",
    "            measures_list = []\n",
    "\n",
    "            for result in results:\n",
    "                objective, measures = result\n",
    "                if np.isfinite(objective):\n",
    "                    objectives.append(objective)\n",
    "                    measures_list.append(measures)\n",
    "                else:\n",
    "                    logging.warning(f\"Non-finite objective value: {objective}. Using placeholder.\")\n",
    "                    objectives.append(-sys.float_info.max)  # Use max negative float as placeholder\n",
    "                    measures_list.append(measures)  # Keep the original measures\n",
    "\n",
    "            if objectives and measures_list:\n",
    "                print(f\"Before tell: Archive size = {len(archive)}\")\n",
    "                scheduler.tell(objectives, measures_list)\n",
    "                print(f\"After tell: Archive size = {len(archive)}\")\n",
    "                print(f\"Objectives: {objectives}\")\n",
    "                print(f\"Measures: {measures_list}\")\n",
    "            else:\n",
    "                logging.warning(f\"Iteration {itr + 1}: No valid solutions to add to archive\")\n",
    "\n",
    "            logging.info(f\"> {itr + 1} iterations completed\")\n",
    "            logging.info(f\"  - Archive size: {len(archive)}\")\n",
    "            logging.info(f\"  - Archive coverage: {archive.stats.coverage}\")\n",
    "            \n",
    "        except Exception as e:\n",
    "            logging.error(f\"Error in iteration {itr}: {str(e)}\")\n",
    "            raise\n",
    "\n",
    "    return archive"
   ]
  },
  {
   "cell_type": "code",
   "execution_count": 7,
   "metadata": {},
   "outputs": [
    {
     "name": "stdout",
     "output_type": "stream",
     "text": [
      "Before tell: Archive size = 0\n"
     ]
    },
    {
     "name": "stderr",
     "output_type": "stream",
     "text": [
      "INFO:root:> 1 iterations completed\n",
      "INFO:root:  - Archive size: 9\n",
      "INFO:root:  - Archive coverage: 0.5625\n"
     ]
    },
    {
     "name": "stdout",
     "output_type": "stream",
     "text": [
      "After tell: Archive size = 9\n",
      "Objectives: [-0.334949, -3.4755320000000003, -2.101273, -4.228394, -4.294345, -0.30462599999999995, -1.2618109999999998, 4.181503, 3.5234829999999997, 2.0607, -0.42637700000000006, -1.338981, -0.578705, -2.118952, -4.055977, -1.922275]\n",
      "Measures: [[4, 618.066162], [3, 653.303528], [5, 1387.949829], [3, 1164.506348], [2, 663.530029], [4, 872.62323], [2, 609.741089], [5, 1076.065796], [4, 891.365662], [2, 924.903442], [2, 543.066589], [5, 1129.28186], [5, 637.63385], [4, 980.868164], [3, 656.39502], [2, 486.39679]]\n"
     ]
    },
    {
     "name": "stderr",
     "output_type": "stream",
     "text": [
      "INFO:root:> 2 iterations completed\n",
      "INFO:root:  - Archive size: 9\n",
      "INFO:root:  - Archive coverage: 0.5625\n"
     ]
    },
    {
     "name": "stdout",
     "output_type": "stream",
     "text": [
      "Before tell: Archive size = 9\n",
      "After tell: Archive size = 9\n",
      "Objectives: [-1.187683, -1.850738, -3.696496, -2.319603, -6.476722, -1.695613, 1.287445, 4.395652999999999, 1.00782, -0.009940999999999978, -2.736267, -6.113602, -1.317375, -2.879578, -2.078629, 1.977447]\n",
      "Measures: [[5, 1047.397705], [3, 667.458435], [3, 850.025085], [4, 383.894348], [5, 1149.490723], [2, 766.079529], [2, 825.414368], [3, 805.028381], [3, 801.964172], [4, 1172.15564], [3, 417.582153], [5, 879.40686], [3, 501.734528], [2, 714.031494], [5, 1473.855835], [3, 720.641052]]\n"
     ]
    },
    {
     "name": "stderr",
     "output_type": "stream",
     "text": [
      "INFO:root:> 3 iterations completed\n",
      "INFO:root:  - Archive size: 10\n",
      "INFO:root:  - Archive coverage: 0.625\n"
     ]
    },
    {
     "name": "stdout",
     "output_type": "stream",
     "text": [
      "Before tell: Archive size = 9\n",
      "After tell: Archive size = 10\n",
      "Objectives: [-3.2908020000000002, -1.403634, -3.2886580000000003, -1.170624, -3.8500129999999997, -1.182205, -7.622120000000001, -1.106491, -0.5600210000000001, -4.565804, 0.803825, -3.46373, -0.98688, 3.2327120000000003, -3.616975, -2.252151]\n",
      "Measures: [[2, 511.736084], [4, 788.589661], [5, 1161.901245], [4, 1112.058594], [2, 402.336639], [5, 1662.424805], [5, 1149.775513], [3, 656.825439], [5, 1426.107788], [3, 642.997375], [4, 737.48938], [2, 516.607056], [3, 936.830383], [5, 1098.995728], [2, 852.637512], [3, 642.116577]]\n"
     ]
    },
    {
     "name": "stderr",
     "output_type": "stream",
     "text": [
      "INFO:root:> 4 iterations completed\n",
      "INFO:root:  - Archive size: 11\n",
      "INFO:root:  - Archive coverage: 0.6875\n"
     ]
    },
    {
     "name": "stdout",
     "output_type": "stream",
     "text": [
      "Before tell: Archive size = 10\n",
      "After tell: Archive size = 11\n",
      "Objectives: [-1.33007, -3.1914670000000003, 0.28851000000000004, -0.910873, -2.163803, -4.458489, -0.09587099999999998, -3.921157, 0.523258, -3.232903, -0.933975, -1.367783, -2.50563, -2.081852, 1.490982, -3.37915]\n",
      "Measures: [[5, 924.04895], [2, 640.287415], [2, 874.370239], [5, 1331.581299], [2, 399.758667], [2, 795.949402], [3, 990.165588], [3, 721.439514], [2, 581.535706], [5, 1202.345215], [4, 1114.354858], [4, 1228.713013], [4, 1205.3302], [4, 950.311951], [5, 1278.217407], [5, 1318.678345]]\n"
     ]
    },
    {
     "name": "stderr",
     "output_type": "stream",
     "text": [
      "WARNING:root:Non-finite objective value: -inf. Using placeholder.\n",
      "INFO:root:> 5 iterations completed\n",
      "INFO:root:  - Archive size: 11\n",
      "INFO:root:  - Archive coverage: 0.6875\n"
     ]
    },
    {
     "name": "stdout",
     "output_type": "stream",
     "text": [
      "Before tell: Archive size = 11\n",
      "After tell: Archive size = 11\n",
      "Objectives: [-5.055207, 0.52565, -2.975258, -2.769737, -3.105378, -1.7976931348623157e+308, -0.902111, -4.223705, -1.446576, -3.4554940000000003, -1.298286, -3.8799140000000003, -3.767365, -8.567554, -1.653984, 2.135674]\n",
      "Measures: [[4, 494.688812], [4, 879.761841], [5, 821.919739], [3, 629.444031], [4, 1234.063843], [2, 400], [5, 1164.469116], [3, 494.571381], [4, 1273.219238], [3, 1191.039917], [2, 529.983643], [5, 1113.104492], [3, 911.845886], [4, 934.285583], [4, 785.597351], [4, 970.139648]]\n"
     ]
    },
    {
     "name": "stderr",
     "output_type": "stream",
     "text": [
      "INFO:root:> 6 iterations completed\n",
      "INFO:root:  - Archive size: 11\n",
      "INFO:root:  - Archive coverage: 0.6875\n"
     ]
    },
    {
     "name": "stdout",
     "output_type": "stream",
     "text": [
      "Before tell: Archive size = 11\n",
      "After tell: Archive size = 11\n",
      "Objectives: [-1.9266989999999997, -6.612823000000001, -3.6258999999999997, 3.449372, -3.1437229999999996, -1.952637, -2.579185, -0.728756, -3.7177279999999997, -2.9185869999999996, -1.698879, -1.8876249999999999, -2.250549, -1.56147, -2.823623, -2.731964]\n",
      "Measures: [[4, 1041.439697], [3, 853.388733], [2, 813.636475], [5, 1068.51062], [4, 869.52417], [3, 935.353943], [3, 537.540527], [4, 854.099182], [5, 1194.955933], [2, 579.21106], [3, 787.879517], [3, 477.48642], [4, 863.815674], [3, 704.421509], [3, 585.923157], [3, 575.199829]]\n"
     ]
    },
    {
     "name": "stderr",
     "output_type": "stream",
     "text": [
      "INFO:root:> 7 iterations completed\n",
      "INFO:root:  - Archive size: 11\n",
      "INFO:root:  - Archive coverage: 0.6875\n"
     ]
    },
    {
     "name": "stdout",
     "output_type": "stream",
     "text": [
      "Before tell: Archive size = 11\n",
      "After tell: Archive size = 11\n",
      "Objectives: [-1.01281, -5.44616, -1.9459340000000003, 0.7650759999999999, -4.047638, -1.299787, -5.120945, -1.9370880000000001, -3.236847, -1.824617, -0.746452, 0.013983999999999996, 0.27820599999999995, -11.543785, -1.187657, -3.488907]\n",
      "Measures: [[5, 1175.104004], [5, 1351.992065], [4, 920.781311], [3, 535.031677], [4, 875.467224], [3, 538.626587], [4, 1056.004272], [3, 800.169861], [4, 1364.322266], [4, 738.781677], [2, 582.787903], [4, 807.100586], [3, 933.880859], [4, 1157.796997], [4, 936.734802], [3, 793.748108]]\n"
     ]
    },
    {
     "name": "stderr",
     "output_type": "stream",
     "text": [
      "INFO:root:> 8 iterations completed\n",
      "INFO:root:  - Archive size: 11\n",
      "INFO:root:  - Archive coverage: 0.6875\n"
     ]
    },
    {
     "name": "stdout",
     "output_type": "stream",
     "text": [
      "Before tell: Archive size = 11\n",
      "After tell: Archive size = 11\n",
      "Objectives: [-2.126945, 0.945114, -8.246964, -1.512809, 0.4608, -2.782029, -1.5836329999999998, -0.9099200000000001, 0.261364, -1.840332, 1.0196990000000001, -6.90443, -3.845426, -0.5685119999999999, -3.7545010000000003, -1.9831699999999999]\n",
      "Measures: [[2, 518.463074], [5, 1544.982178], [5, 1036.310181], [5, 735.62616], [5, 924.069763], [3, 526.322998], [4, 1002.683594], [2, 596.249817], [2, 712.246643], [4, 879.489502], [5, 932.464783], [4, 873.874084], [4, 780.726318], [3, 786.117188], [3, 976.53363], [5, 1182.768433]]\n"
     ]
    },
    {
     "name": "stderr",
     "output_type": "stream",
     "text": [
      "INFO:root:> 9 iterations completed\n",
      "INFO:root:  - Archive size: 11\n",
      "INFO:root:  - Archive coverage: 0.6875\n"
     ]
    },
    {
     "name": "stdout",
     "output_type": "stream",
     "text": [
      "Before tell: Archive size = 11\n",
      "After tell: Archive size = 11\n",
      "Objectives: [-3.240585, -2.2948049999999998, 0.8623120000000002, -4.449978, -1.137563, -2.267838, -1.117966, -1.673325, -3.721977, -4.1223, -1.5932389999999998, 0.07779099999999994, -6.655029, -7.219986, -10.088424999999999, -1.285465]\n",
      "Measures: [[4, 1267.411377], [2, 729.008118], [5, 1052.729004], [4, 711.600342], [4, 1024.497437], [4, 1062.18396], [4, 1163.226074], [5, 1083.827148], [2, 442.065857], [4, 831.655212], [2, 498.112305], [2, 650.767517], [5, 1199.101929], [4, 1391.851807], [3, 1016.869812], [2, 497.508301]]\n"
     ]
    },
    {
     "name": "stderr",
     "output_type": "stream",
     "text": [
      "INFO:root:> 10 iterations completed\n",
      "INFO:root:  - Archive size: 11\n",
      "INFO:root:  - Archive coverage: 0.6875\n"
     ]
    },
    {
     "name": "stdout",
     "output_type": "stream",
     "text": [
      "Before tell: Archive size = 11\n",
      "After tell: Archive size = 11\n",
      "Objectives: [2.024024, 0.6368750000000001, -3.08136, -2.7325369999999998, -5.187125999999999, -2.619476, -1.933201, -1.5860440000000002, -6.305313, -0.8797299999999999, -1.9973670000000001, -1.871331, -0.5391540000000001, -5.913506, -1.4449, -2.160507]\n",
      "Measures: [[3, 981.749023], [4, 1225.191162], [5, 1222.201172], [2, 720.015015], [4, 1101.718018], [4, 686.597839], [4, 884.245422], [2, 611.757385], [2, 858.748718], [3, 1149.809326], [2, 749.769592], [4, 1255.342041], [3, 781.851746], [4, 1007.009094], [2, 691.598877], [4, 1179.743286]]\n"
     ]
    },
    {
     "name": "stderr",
     "output_type": "stream",
     "text": [
      "INFO:root:> 11 iterations completed\n",
      "INFO:root:  - Archive size: 11\n",
      "INFO:root:  - Archive coverage: 0.6875\n"
     ]
    },
    {
     "name": "stdout",
     "output_type": "stream",
     "text": [
      "Before tell: Archive size = 11\n",
      "After tell: Archive size = 11\n",
      "Objectives: [-2.882592, -1.2068489999999998, -5.539352, 0.571976, -3.413441, -2.762321, 6.784622, -1.208214, 1.517979, -4.319153, -1.5168, -3.2133789999999998, -4.929207, -7.335236, -0.397964, -1.150299]\n",
      "Measures: [[2, 646.778015], [3, 719.914917], [4, 1084.210449], [5, 1144.019531], [3, 604.573364], [4, 1206.641479], [5, 1388.027344], [3, 645.80957], [5, 1222.484009], [3, 882.101379], [3, 590.085327], [3, 528.802979], [3, 874.294434], [5, 1644.975952], [4, 1355.547729], [5, 1076.888672]]\n"
     ]
    },
    {
     "name": "stderr",
     "output_type": "stream",
     "text": [
      "WARNING:root:Non-finite objective value: -inf. Using placeholder.\n",
      "INFO:root:> 12 iterations completed\n",
      "INFO:root:  - Archive size: 11\n",
      "INFO:root:  - Archive coverage: 0.6875\n"
     ]
    },
    {
     "name": "stdout",
     "output_type": "stream",
     "text": [
      "Before tell: Archive size = 11\n",
      "After tell: Archive size = 11\n",
      "Objectives: [-3.9505000000000003, -1.978516, -1.254164, -1.1063379999999998, -2.077743, -2.8153379999999997, -3.94677, -4.72924, -2.103851, -1.720299, -0.7902760000000001, -0.7652319999999999, -2.716187, 0.27316199999999996, -7.686054, -1.7976931348623157e+308]\n",
      "Measures: [[4, 1144.505127], [4, 1359.363647], [2, 488.964142], [2, 547.833313], [3, 707.024414], [2, 584.713928], [4, 1140.751831], [4, 1330.279419], [3, 859.844971], [3, 497.662994], [3, 560.215881], [3, 671.959839], [3, 811.520813], [3, 1067.440918], [2, 716.257446], [2, 400]]\n"
     ]
    },
    {
     "name": "stderr",
     "output_type": "stream",
     "text": [
      "WARNING:root:Non-finite objective value: -inf. Using placeholder.\n",
      "INFO:root:> 13 iterations completed\n",
      "INFO:root:  - Archive size: 11\n",
      "INFO:root:  - Archive coverage: 0.6875\n"
     ]
    },
    {
     "name": "stdout",
     "output_type": "stream",
     "text": [
      "Before tell: Archive size = 11\n",
      "After tell: Archive size = 11\n",
      "Objectives: [-8.674564, -4.249107, -5.171036, -2.6677169999999997, -2.694153, -2.33992, -2.2612039999999998, 1.1298219999999999, -1.7976931348623157e+308, -2.21907, -2.397324, -0.42928299999999986, -1.6390989999999999, -2.0172339999999997, -2.9428789999999996, -1.257984]\n",
      "Measures: [[3, 945.422302], [3, 896.190308], [4, 959.57489], [4, 1145.189697], [5, 1106.785156], [5, 832.60321], [3, 696.599121], [3, 830.044189], [2, 400], [3, 668.767639], [4, 1266.822998], [4, 1466.452515], [5, 1004.220215], [3, 691.321655], [4, 926.163635], [5, 1097.063599]]\n"
     ]
    },
    {
     "name": "stderr",
     "output_type": "stream",
     "text": [
      "INFO:root:> 14 iterations completed\n",
      "INFO:root:  - Archive size: 13\n",
      "INFO:root:  - Archive coverage: 0.8125\n"
     ]
    },
    {
     "name": "stdout",
     "output_type": "stream",
     "text": [
      "Before tell: Archive size = 11\n",
      "After tell: Archive size = 13\n",
      "Objectives: [-2.617622, -6.475631, -2.209332, -5.3318639999999995, -1.759521, 0.16090400000000005, -3.1535800000000003, -11.758422, -0.264694, -2.666878, -0.831558, -0.388463, -3.085296, -2.668595, -0.933411, -2.6647179999999997]\n",
      "Measures: [[2, 606.537964], [5, 793.621887], [5, 1065.831909], [4, 794.800964], [2, 1246.986328], [5, 1464.442993], [3, 650.776855], [4, 1848.195557], [2, 575.146973], [3, 481.436707], [4, 833.107605], [4, 1205.380005], [4, 824.17981], [4, 930.901184], [5, 725.822144], [2, 678.022034]]\n"
     ]
    },
    {
     "name": "stderr",
     "output_type": "stream",
     "text": [
      "INFO:root:> 15 iterations completed\n",
      "INFO:root:  - Archive size: 13\n",
      "INFO:root:  - Archive coverage: 0.8125\n"
     ]
    },
    {
     "name": "stdout",
     "output_type": "stream",
     "text": [
      "Before tell: Archive size = 13\n",
      "After tell: Archive size = 13\n",
      "Objectives: [1.4524370000000002, 0.486008, -1.6774479999999998, 0.15195100000000017, -0.468875, 0.196426, -2.310909, -0.6463239999999999, -3.4778789999999997, -0.3384429999999998, -0.89122, -1.285126, -0.6072310000000001, -7.584389, 0.3859250000000001, -3.33152]\n",
      "Measures: [[3, 1051.814209], [2, 737.979553], [2, 778.229797], [3, 626.84845], [2, 441.741364], [4, 1231.491577], [2, 574.881348], [4, 1196.080444], [3, 785.001648], [5, 918.513367], [3, 715.994385], [2, 901.961243], [4, 981.336426], [4, 1627.881958], [5, 1122.799316], [2, 493.98764]]\n"
     ]
    },
    {
     "name": "stderr",
     "output_type": "stream",
     "text": [
      "INFO:root:> 16 iterations completed\n",
      "INFO:root:  - Archive size: 13\n",
      "INFO:root:  - Archive coverage: 0.8125\n",
      "INFO:__main__:Crossover 1, Child: Parent1 ID 3.8090765236974757, Parent2 ID 1.841925783759605, Child ID 16.65100230745708\n",
      "INFO:__main__:Crossover 2, Child: Parent1 ID 3.8090765236974757, Parent2 ID 0.4819305101337329, Child ID 16.291007033831207\n",
      "INFO:__main__:Crossover 3, Child: Parent1 ID 2.0343608548752496, Parent2 ID 0.24138619847986154, Child ID 16.27574705335511\n",
      "INFO:__main__:Crossover 4, Child: Parent1 ID 0.4819305101337329, Parent2 ID 2.0343608548752496, Child ID 16.516291365008982\n",
      "INFO:__main__:Crossover 5, Child: Parent1 ID 0.3805266407487209, Parent2 ID 0.9446074252480955, Child ID 16.325134065996817\n",
      "INFO:__main__:Crossover 6, Child: Parent1 ID 2.8785248199889706, Parent2 ID 0.9446074252480955, Child ID 16.823132245237066\n",
      "INFO:__main__:Crossover 7, Child: Parent1 ID 3.8090765236974757, Parent2 ID 2.0343608548752496, Child ID 16.843437378572727\n",
      "INFO:__main__:Crossover 8, Child: Parent1 ID 0.4819305101337329, Parent2 ID 1.2957555700457297, Child ID 16.777686080179464\n"
     ]
    },
    {
     "name": "stdout",
     "output_type": "stream",
     "text": [
      "Before tell: Archive size = 13\n",
      "After tell: Archive size = 13\n",
      "Objectives: [-1.078941, -2.69593, -1.2395630000000002, -1.397476, -0.6069910000000001, -2.165855, -4.345119, -0.929916, -1.6585269999999999, -0.733803, -0.36351700000000003, -1.365318, 0.7510530000000002, -0.9573979999999997, -4.1393130000000005, 1.9087409999999998]\n",
      "Measures: [[2, 719.965149], [2, 675.621094], [3, 727.821533], [4, 712.254089], [2, 679.163452], [3, 717.97345], [5, 945.028503], [3, 464.506104], [2, 584.434998], [2, 647.105042], [3, 742.968201], [5, 714.930847], [5, 1360.182373], [4, 1305.187378], [3, 874.7547], [5, 994.731201]]\n"
     ]
    },
    {
     "name": "stderr",
     "output_type": "stream",
     "text": [
      "WARNING:root:Non-finite objective value: -inf. Using placeholder.\n",
      "INFO:root:> 17 iterations completed\n",
      "INFO:root:  - Archive size: 14\n",
      "INFO:root:  - Archive coverage: 0.875\n",
      "INFO:__main__:Crossover 1, Child: Parent1 ID 1.2957555700457297, Parent2 ID 1.2957555700457297, Child ID 17.59151114009146\n",
      "INFO:__main__:Crossover 2, Child: Parent1 ID 2.8785248199889706, Parent2 ID 2.0343608548752496, Child ID 17.91288567486422\n",
      "INFO:__main__:Crossover 3, Child: Parent1 ID 0.3805266407487209, Parent2 ID 1.2957555700457297, Child ID 17.67628221079445\n",
      "INFO:__main__:Crossover 4, Child: Parent1 ID 9.583645650805162, Parent2 ID 10.87599789486266, Child ID 17.459643545667824\n",
      "INFO:__main__:Crossover 5, Child: Parent1 ID 3.8090765236974757, Parent2 ID 3.8090765236974757, Child ID 17.61815304739495\n",
      "INFO:__main__:Crossover 6, Child: Parent1 ID 2.8785248199889706, Parent2 ID 13.184387201499957, Child ID 17.062912021488927\n",
      "INFO:__main__:Crossover 7, Child: Parent1 ID 2.8785248199889706, Parent2 ID 13.184387201499957, Child ID 17.062912021488927\n",
      "INFO:__main__:Crossover 8, Child: Parent1 ID 2.0343608548752496, Parent2 ID 14.326404659732844, Child ID 17.360765514608094\n"
     ]
    },
    {
     "name": "stdout",
     "output_type": "stream",
     "text": [
      "Before tell: Archive size = 13\n",
      "After tell: Archive size = 14\n",
      "Objectives: [-0.34784000000000004, 1.1983, -11.20198, -0.041877, -1.6268159999999998, 0.236938, -1.7976931348623157e+308, 0.493679]\n",
      "Measures: [[2, 839.625549], [3, 493.38562], [4, 1613.725586], [5, 661.036682], [3, 1304.716919], [3, 1096.377686], [2, 400], [4, 759.186096]]\n"
     ]
    },
    {
     "name": "stderr",
     "output_type": "stream",
     "text": [
      "WARNING:root:Non-finite objective value: -inf. Using placeholder.\n",
      "INFO:root:> 18 iterations completed\n",
      "INFO:root:  - Archive size: 14\n",
      "INFO:root:  - Archive coverage: 0.875\n",
      "INFO:__main__:Crossover 1, Child: Parent1 ID 13.184387201499957, Parent2 ID 16.516291365008982, Child ID 18.70067856650894\n",
      "INFO:__main__:Crossover 2, Child: Parent1 ID 16.516291365008982, Parent2 ID 2.8785248199889706, Child ID 18.394816184997953\n",
      "INFO:__main__:Crossover 3, Child: Parent1 ID 16.325134065996817, Parent2 ID 14.326404659732844, Child ID 18.65153872572966\n",
      "INFO:__main__:Crossover 4, Child: Parent1 ID 0.9446074252480955, Parent2 ID 9.583645650805162, Child ID 18.528253076053257\n",
      "INFO:__main__:Crossover 5, Child: Parent1 ID 10.87599789486266, Parent2 ID 3.8090765236974757, Child ID 18.685074418560134\n",
      "INFO:__main__:Crossover 6, Child: Parent1 ID 16.325134065996817, Parent2 ID 0.3805266407487209, Child ID 18.705660706745537\n",
      "INFO:__main__:Crossover 7, Child: Parent1 ID 10.87599789486266, Parent2 ID 16.516291365008982, Child ID 18.392289259871642\n",
      "INFO:__main__:Crossover 8, Child: Parent1 ID 1.841925783759605, Parent2 ID 1.2957555700457297, Child ID 18.137681353805334\n"
     ]
    },
    {
     "name": "stdout",
     "output_type": "stream",
     "text": [
      "Before tell: Archive size = 14\n",
      "After tell: Archive size = 14\n",
      "Objectives: [1.977447, -8.589646, -2.959519, -9.695632999999999, -2.1254969999999997, -1.7976931348623157e+308, -0.33909200000000017, 0.15631099999999998]\n",
      "Measures: [[3, 720.641052], [4, 1529.002441], [4, 1324.662231], [4, 1623.950806], [2, 593.71936], [2, 400], [3, 563.158325], [4, 1597.230835]]\n"
     ]
    },
    {
     "name": "stderr",
     "output_type": "stream",
     "text": [
      "INFO:root:> 19 iterations completed\n",
      "INFO:root:  - Archive size: 15\n",
      "INFO:root:  - Archive coverage: 0.9375\n",
      "INFO:__main__:Crossover 1, Child: Parent1 ID 14.326404659732844, Parent2 ID 16.325134065996817, Child ID 19.65153872572966\n",
      "INFO:__main__:Crossover 2, Child: Parent1 ID 16.516291365008982, Parent2 ID 14.326404659732844, Child ID 19.842696024741826\n",
      "INFO:__main__:Crossover 3, Child: Parent1 ID 16.516291365008982, Parent2 ID 14.326404659732844, Child ID 19.842696024741826\n",
      "INFO:__main__:Crossover 4, Child: Parent1 ID 9.583645650805162, Parent2 ID 16.516291365008982, Child ID 19.09993701581414\n",
      "INFO:__main__:Crossover 5, Child: Parent1 ID 16.325134065996817, Parent2 ID 2.8785248199889706, Child ID 19.20365888598579\n",
      "INFO:__main__:Crossover 6, Child: Parent1 ID 0.9446074252480955, Parent2 ID 1.841925783759605, Child ID 19.7865332090077\n",
      "INFO:__main__:Crossover 7, Child: Parent1 ID 9.583645650805162, Parent2 ID 0.24138619847986154, Child ID 19.825031849285022\n",
      "INFO:__main__:Crossover 8, Child: Parent1 ID 16.325134065996817, Parent2 ID 0.9446074252480955, Child ID 19.26974149124491\n"
     ]
    },
    {
     "name": "stdout",
     "output_type": "stream",
     "text": [
      "Before tell: Archive size = 14\n",
      "After tell: Archive size = 15\n",
      "Objectives: [-0.37078099999999997, -3.8777470000000003, -2.602188, 3.53865, -6.406967, -5.857636, -0.04510100000000006, -7.418944999999999]\n",
      "Measures: [[3, 383.522583], [4, 698.180603], [3, 2105.741455], [3, 1104.222046], [3, 1257.390991], [4, 1337.626465], [5, 949.796631], [3, 889.415466]]\n"
     ]
    },
    {
     "name": "stderr",
     "output_type": "stream",
     "text": [
      "WARNING:root:Non-finite objective value: -inf. Using placeholder.\n",
      "INFO:root:> 20 iterations completed\n",
      "INFO:root:  - Archive size: 15\n",
      "INFO:root:  - Archive coverage: 0.9375\n"
     ]
    },
    {
     "name": "stdout",
     "output_type": "stream",
     "text": [
      "Before tell: Archive size = 15\n",
      "After tell: Archive size = 15\n",
      "Objectives: [-0.4036709999999999, -12.618714, -1.7976931348623157e+308, -0.20269800000000004, -0.014646000000000381, -5.11612, -2.934914, 2.331555]\n",
      "Measures: [[3, 1738.02124], [4, 1191.476685], [2, 400], [4, 800.111938], [3, 1080.465088], [2, 1116.288086], [4, 739.020081], [2, 971.551208]]\n"
     ]
    },
    {
     "name": "stderr",
     "output_type": "stream",
     "text": [
      "WARNING:root:Non-finite objective value: -inf. Using placeholder.\n",
      "WARNING:root:Non-finite objective value: -inf. Using placeholder.\n",
      "WARNING:root:Non-finite objective value: -inf. Using placeholder.\n",
      "WARNING:root:Non-finite objective value: -inf. Using placeholder.\n",
      "WARNING:root:Non-finite objective value: -inf. Using placeholder.\n",
      "WARNING:root:Non-finite objective value: -inf. Using placeholder.\n",
      "INFO:root:> 21 iterations completed\n",
      "INFO:root:  - Archive size: 15\n",
      "INFO:root:  - Archive coverage: 0.9375\n",
      "INFO:__main__:Crossover 1, Child: Parent1 ID 1.841925783759605, Parent2 ID 13.184387201499957, Child ID 21.026312985259562\n",
      "INFO:__main__:Crossover 2, Child: Parent1 ID 9.583645650805162, Parent2 ID 0.3805266407487209, Child ID 21.964172291553883\n",
      "INFO:__main__:Crossover 3, Child: Parent1 ID 19.65153872572966, Parent2 ID 14.326404659732844, Child ID 21.977943385462506\n",
      "INFO:__main__:Crossover 4, Child: Parent1 ID 14.326404659732844, Parent2 ID 2.8785248199889706, Child ID 21.204929479721816\n",
      "INFO:__main__:Crossover 5, Child: Parent1 ID 9.583645650805162, Parent2 ID 0.3805266407487209, Child ID 21.964172291553883\n",
      "INFO:__main__:Crossover 6, Child: Parent1 ID 14.326404659732844, Parent2 ID 13.184387201499957, Child ID 21.510791861232804\n",
      "INFO:__main__:Crossover 7, Child: Parent1 ID 2.8785248199889706, Parent2 ID 13.184387201499957, Child ID 21.062912021488927\n",
      "INFO:__main__:Crossover 8, Child: Parent1 ID 14.326404659732844, Parent2 ID 2.0343608548752496, Child ID 21.360765514608094\n"
     ]
    },
    {
     "name": "stdout",
     "output_type": "stream",
     "text": [
      "Before tell: Archive size = 15\n",
      "After tell: Archive size = 15\n",
      "Objectives: [-1.7976931348623157e+308, -1.7976931348623157e+308, -0.14193299999999998, -1.7976931348623157e+308, -3.552491, 1.921157, -1.7976931348623157e+308, 3.251404, -1.7976931348623157e+308, -0.31362899999999994, -0.32672499999999993, 0.15937400000000002, 1.642261, -1.7976931348623157e+308, -5.7516560000000005, -0.902298]\n",
      "Measures: [[2, 400], [2, 400], [4, 873.379333], [2, 400], [5, 1718.841675], [4, 1101.166626], [2, 400], [3, 802.674927], [2, 400], [2, 374.094116], [2, 355.326691], [2, 583.371155], [3, 1294.434814], [2, 400], [5, 1735.286743], [2, 562.832642]]\n"
     ]
    },
    {
     "name": "stderr",
     "output_type": "stream",
     "text": [
      "WARNING:root:Non-finite objective value: -inf. Using placeholder.\n",
      "INFO:root:> 22 iterations completed\n",
      "INFO:root:  - Archive size: 15\n",
      "INFO:root:  - Archive coverage: 0.9375\n"
     ]
    },
    {
     "name": "stdout",
     "output_type": "stream",
     "text": [
      "Before tell: Archive size = 15\n",
      "After tell: Archive size = 15\n",
      "Objectives: [-1.4459440000000001, -5.099655, -2.794403, -2.350021, -1.7976931348623157e+308, -13.241035, -3.1927339999999997, -14.599839]\n",
      "Measures: [[2, 620.059021], [4, 951.808777], [4, 1782.980225], [4, 1422.824097], [2, 400], [3, 1306.278076], [3, 761.69519], [4, 1679.406982]]\n"
     ]
    },
    {
     "name": "stderr",
     "output_type": "stream",
     "text": [
      "WARNING:root:Non-finite objective value: -inf. Using placeholder.\n",
      "INFO:root:> 23 iterations completed\n",
      "INFO:root:  - Archive size: 15\n",
      "INFO:root:  - Archive coverage: 0.9375\n",
      "INFO:__main__:Crossover 1, Child: Parent1 ID 10.87599789486266, Parent2 ID 22.65153872572966, Child ID 23.527536620592322\n",
      "INFO:__main__:Crossover 2, Child: Parent1 ID 0.24138619847986154, Parent2 ID 10.87599789486266, Child ID 23.117384093342523\n",
      "INFO:__main__:Crossover 3, Child: Parent1 ID 10.87599789486266, Parent2 ID 22.65153872572966, Child ID 23.527536620592322\n",
      "INFO:__main__:Crossover 4, Child: Parent1 ID 22.65153872572966, Parent2 ID 21.977943385462506, Child ID 23.629482111192168\n",
      "INFO:__main__:Crossover 5, Child: Parent1 ID 22.516291365008982, Parent2 ID 1.2957555700457297, Child ID 23.812046935054713\n",
      "INFO:__main__:Crossover 6, Child: Parent1 ID 21.977943385462506, Parent2 ID 3.8090765236974757, Child ID 23.78701990915998\n",
      "INFO:__main__:Crossover 7, Child: Parent1 ID 1.2957555700457297, Parent2 ID 10.87599789486266, Child ID 23.17175346490839\n",
      "INFO:__main__:Crossover 8, Child: Parent1 ID 0.3805266407487209, Parent2 ID 19.26974149124491, Child ID 23.65026813199363\n"
     ]
    },
    {
     "name": "stdout",
     "output_type": "stream",
     "text": [
      "Before tell: Archive size = 15\n",
      "After tell: Archive size = 15\n",
      "Objectives: [-3.186058, -0.6478349999999999, -2.396355, -1.5183020000000003, -4.797508, 9.745789, -1.525398, -1.7976931348623157e+308, -2.444111, -2.35936, -6.664314, 0.45043999999999995, 0.3462829999999999, 0.41295600000000005, -3.3534550000000003, 0.842878]\n",
      "Measures: [[5, 1067.016113], [2, 587.835205], [5, 1577.857788], [5, 1719.310059], [2, 947.904663], [5, 1691.256226], [3, 803.340515], [2, 400], [3, 746.983215], [5, 1699.123657], [5, 1071.676147], [4, 887.539734], [5, 1784.086426], [2, 586.743591], [2, 961.398926], [5, 668.101135]]\n"
     ]
    },
    {
     "name": "stderr",
     "output_type": "stream",
     "text": [
      "WARNING:root:Non-finite objective value: -inf. Using placeholder.\n",
      "INFO:root:> 24 iterations completed\n",
      "INFO:root:  - Archive size: 15\n",
      "INFO:root:  - Archive coverage: 0.9375\n",
      "INFO:__main__:Crossover 1, Child: Parent1 ID 22.65153872572966, Parent2 ID 22.516291365008982, Child ID 24.167830090738644\n",
      "INFO:__main__:Crossover 2, Child: Parent1 ID 1.2957555700457297, Parent2 ID 0.24138619847986154, Child ID 24.53714176852559\n",
      "INFO:__main__:Crossover 3, Child: Parent1 ID 20.325134065996817, Parent2 ID 20.325134065996817, Child ID 24.650268131993634\n",
      "INFO:__main__:Crossover 4, Child: Parent1 ID 1.2957555700457297, Parent2 ID 9.583645650805162, Child ID 24.87940122085089\n",
      "INFO:__main__:Crossover 5, Child: Parent1 ID 19.65153872572966, Parent2 ID 2.8785248199889706, Child ID 24.530063545718633\n",
      "INFO:__main__:Crossover 6, Child: Parent1 ID 10.87599789486266, Parent2 ID 19.26974149124491, Child ID 24.14573938610757\n",
      "INFO:__main__:Crossover 7, Child: Parent1 ID 19.65153872572966, Parent2 ID 22.516291365008982, Child ID 24.167830090738644\n",
      "INFO:__main__:Crossover 8, Child: Parent1 ID 20.325134065996817, Parent2 ID 2.8785248199889706, Child ID 24.20365888598579\n"
     ]
    },
    {
     "name": "stdout",
     "output_type": "stream",
     "text": [
      "Before tell: Archive size = 15\n",
      "After tell: Archive size = 15\n",
      "Objectives: [-5.728943, -1.056083, -1.7976931348623157e+308, -0.9273530000000001, 0.09967100000000007, 0.9460449999999999, 0.5756300000000001, 0.81317]\n",
      "Measures: [[5, 2283.044189], [4, 1550.681274], [2, 400], [4, 1738.983032], [4, 812.676575], [3, 1211.888794], [4, 1304.832275], [3, 819.308167]]\n"
     ]
    },
    {
     "name": "stderr",
     "output_type": "stream",
     "text": [
      "WARNING:root:Non-finite objective value: -inf. Using placeholder.\n",
      "INFO:root:> 25 iterations completed\n",
      "INFO:root:  - Archive size: 15\n",
      "INFO:root:  - Archive coverage: 0.9375\n"
     ]
    },
    {
     "name": "stdout",
     "output_type": "stream",
     "text": [
      "Before tell: Archive size = 15\n",
      "After tell: Archive size = 15\n",
      "Objectives: [0.9060359999999998, -5.006577999999999, -2.6854510000000005, -0.42542999999999986, -8.42556, 1.156135, -1.7976931348623157e+308, -3.800178]\n",
      "Measures: [[5, 1190.213867], [3, 801.652405], [3, 1296.725952], [3, 971.556335], [4, 1897.27478], [3, 1427.102661], [2, 400], [3, 1069.852905]]\n"
     ]
    },
    {
     "name": "stderr",
     "output_type": "stream",
     "text": [
      "WARNING:root:Non-finite objective value: -inf. Using placeholder.\n",
      "INFO:root:> 26 iterations completed\n",
      "INFO:root:  - Archive size: 15\n",
      "INFO:root:  - Archive coverage: 0.9375\n"
     ]
    },
    {
     "name": "stdout",
     "output_type": "stream",
     "text": [
      "Before tell: Archive size = 15\n",
      "After tell: Archive size = 15\n",
      "Objectives: [-2.188202, -0.006479999999999986, 0.261093, -3.327026, -1.516092, -1.7976931348623157e+308, -2.222001, 0.45456699999999994, -4.117508, 1.2806549999999999, -2.186699, -2.202423, -2.556962, -5.449585, -2.902031, -2.546852]\n",
      "Measures: [[2, 584.01062], [3, 775.056885], [3, 1289.125977], [5, 1706.380127], [2, 272.77066], [2, 400], [4, 727.488159], [4, 1229.150146], [5, 1007.723206], [3, 718.01947], [4, 889.574036], [5, 1402.887085], [4, 749.815735], [4, 887.094055], [4, 1199.014526], [2, 564.013123]]\n"
     ]
    },
    {
     "name": "stderr",
     "output_type": "stream",
     "text": [
      "WARNING:root:Non-finite objective value: -inf. Using placeholder.\n",
      "INFO:root:> 27 iterations completed\n",
      "INFO:root:  - Archive size: 15\n",
      "INFO:root:  - Archive coverage: 0.9375\n",
      "INFO:__main__:Crossover 1, Child: Parent1 ID 1.2957555700457297, Parent2 ID 20.325134065996817, Child ID 27.62088963604255\n",
      "INFO:__main__:Crossover 2, Child: Parent1 ID 0.3805266407487209, Parent2 ID 22.65153872572966, Child ID 27.03206536647838\n",
      "INFO:__main__:Crossover 3, Child: Parent1 ID 1.2957555700457297, Parent2 ID 19.65153872572966, Child ID 27.947294295775393\n",
      "INFO:__main__:Crossover 4, Child: Parent1 ID 10.87599789486266, Parent2 ID 19.65153872572966, Child ID 27.527536620592322\n",
      "INFO:__main__:Crossover 5, Child: Parent1 ID 2.8785248199889706, Parent2 ID 0.24138619847986154, Child ID 27.119911018468834\n",
      "INFO:__main__:Crossover 6, Child: Parent1 ID 22.65153872572966, Parent2 ID 2.8785248199889706, Child ID 27.530063545718633\n",
      "INFO:__main__:Crossover 7, Child: Parent1 ID 20.325134065996817, Parent2 ID 22.65153872572966, Child ID 27.97667279172648\n",
      "INFO:__main__:Crossover 8, Child: Parent1 ID 13.184387201499957, Parent2 ID 19.65153872572966, Child ID 27.835925927229617\n"
     ]
    },
    {
     "name": "stdout",
     "output_type": "stream",
     "text": [
      "Before tell: Archive size = 15\n",
      "After tell: Archive size = 15\n",
      "Objectives: [-3.132759, -2.655472, -0.32197, 0.788849, 2.096145, -5.074585, -1.7976931348623157e+308, -4.786164, -3.21183, -1.471626, 1.799507, -0.815605, 1.904572, -2.018677, -0.466964, -7.908459000000001]\n",
      "Measures: [[2, 319.48053], [3, 1312.809692], [2, 963.217651], [2, 583.138367], [5, 675.266785], [4, 1725.277954], [2, 400], [5, 1665.72583], [2, 953.632751], [3, 1312.611328], [3, 824.478943], [2, 346.010559], [3, 718.489441], [4, 753.366211], [2, 375.993103], [5, 1106.117432]]\n"
     ]
    },
    {
     "name": "stderr",
     "output_type": "stream",
     "text": [
      "INFO:root:> 28 iterations completed\n",
      "INFO:root:  - Archive size: 15\n",
      "INFO:root:  - Archive coverage: 0.9375\n",
      "INFO:__main__:Crossover 1, Child: Parent1 ID 23.629482111192168, Parent2 ID 26.516291365008982, Child ID 28.14577347620115\n",
      "INFO:__main__:Crossover 2, Child: Parent1 ID 13.184387201499957, Parent2 ID 26.809076523697478, Child ID 28.993463725197437\n",
      "INFO:__main__:Crossover 3, Child: Parent1 ID 1.2957555700457297, Parent2 ID 20.325134065996817, Child ID 28.62088963604255\n",
      "INFO:__main__:Crossover 4, Child: Parent1 ID 26.809076523697478, Parent2 ID 26.809076523697478, Child ID 28.618153047394955\n",
      "INFO:__main__:Crossover 5, Child: Parent1 ID 23.629482111192168, Parent2 ID 0.3805266407487209, Child ID 28.010008751940887\n",
      "INFO:__main__:Crossover 6, Child: Parent1 ID 1.841925783759605, Parent2 ID 1.2957555700457297, Child ID 28.137681353805334\n",
      "INFO:__main__:Crossover 7, Child: Parent1 ID 1.2957555700457297, Parent2 ID 10.87599789486266, Child ID 28.17175346490839\n",
      "INFO:__main__:Crossover 8, Child: Parent1 ID 23.629482111192168, Parent2 ID 26.516291365008982, Child ID 28.14577347620115\n"
     ]
    },
    {
     "name": "stdout",
     "output_type": "stream",
     "text": [
      "Before tell: Archive size = 15\n",
      "After tell: Archive size = 15\n",
      "Objectives: [-0.06204999999999994, 3.543755, -4.735885, 0.927597, -1.8233799999999998, -3.1161179999999997, -8.23825, -3.227768]\n",
      "Measures: [[3, 950.643616], [5, 1789.538574], [4, 1390.951782], [5, 1562.936523], [4, 795.577148], [4, 1958.153442], [4, 2068.460205], [3, 686.637207]]\n"
     ]
    },
    {
     "name": "stderr",
     "output_type": "stream",
     "text": [
      "WARNING:root:Non-finite objective value: -inf. Using placeholder.\n",
      "INFO:root:> 29 iterations completed\n",
      "INFO:root:  - Archive size: 15\n",
      "INFO:root:  - Archive coverage: 0.9375\n",
      "INFO:__main__:Crossover 1, Child: Parent1 ID 19.26974149124491, Parent2 ID 26.516291365008982, Child ID 29.786032856253893\n",
      "INFO:__main__:Crossover 2, Child: Parent1 ID 1.841925783759605, Parent2 ID 26.809076523697478, Child ID 29.651002307457084\n",
      "INFO:__main__:Crossover 3, Child: Parent1 ID 19.65153872572966, Parent2 ID 26.809076523697478, Child ID 29.46061524942714\n",
      "INFO:__main__:Crossover 4, Child: Parent1 ID 26.809076523697478, Parent2 ID 2.8785248199889706, Child ID 29.68760134368645\n",
      "INFO:__main__:Crossover 5, Child: Parent1 ID 26.516291365008982, Parent2 ID 20.325134065996817, Child ID 29.8414254310058\n",
      "INFO:__main__:Crossover 6, Child: Parent1 ID 26.809076523697478, Parent2 ID 19.26974149124491, Child ID 29.07881801494239\n",
      "INFO:__main__:Crossover 7, Child: Parent1 ID 19.26974149124491, Parent2 ID 20.325134065996817, Child ID 29.59487555724173\n",
      "INFO:__main__:Crossover 8, Child: Parent1 ID 20.325134065996817, Parent2 ID 10.87599789486266, Child ID 29.201131960859477\n"
     ]
    },
    {
     "name": "stdout",
     "output_type": "stream",
     "text": [
      "Before tell: Archive size = 15\n",
      "After tell: Archive size = 15\n",
      "Objectives: [-1.426208, -0.370119, 0.234955, -4.093967, 3.229615, -0.808136, -5.645325, -1.7976931348623157e+308]\n",
      "Measures: [[4, 1141.049683], [2, 354.310547], [3, 1026.147217], [2, 570.820801], [4, 1745.119263], [3, 731.548523], [4, 1285.583984], [2, 400]]\n"
     ]
    },
    {
     "name": "stderr",
     "output_type": "stream",
     "text": [
      "INFO:root:> 30 iterations completed\n",
      "INFO:root:  - Archive size: 15\n",
      "INFO:root:  - Archive coverage: 0.9375\n"
     ]
    },
    {
     "name": "stdout",
     "output_type": "stream",
     "text": [
      "Before tell: Archive size = 15\n",
      "After tell: Archive size = 15\n",
      "Objectives: [-2.6309050000000003, -1.0589899999999999, -5.288155, -0.04048099999999999, -0.5212330000000001, -1.762726, -1.60495, -2.6559979999999994]\n",
      "Measures: [[3, 1334.539429], [2, 607.603577], [3, 1210.592896], [3, 629.799438], [4, 1315.491699], [2, 815.093567], [2, 950.552063], [4, 1342.069092]]\n"
     ]
    },
    {
     "name": "stderr",
     "output_type": "stream",
     "text": [
      "WARNING:root:Non-finite objective value: -inf. Using placeholder.\n",
      "WARNING:root:Non-finite objective value: -inf. Using placeholder.\n",
      "WARNING:root:Non-finite objective value: -inf. Using placeholder.\n",
      "WARNING:root:Non-finite objective value: -inf. Using placeholder.\n",
      "WARNING:root:Non-finite objective value: -inf. Using placeholder.\n",
      "INFO:root:> 31 iterations completed\n",
      "INFO:root:  - Archive size: 15\n",
      "INFO:root:  - Archive coverage: 0.9375\n"
     ]
    },
    {
     "name": "stdout",
     "output_type": "stream",
     "text": [
      "Before tell: Archive size = 15\n",
      "After tell: Archive size = 15\n",
      "Objectives: [-3.5104670000000002, -0.14065600000000003, -1.3033299999999999, -3.852821, -1.7976931348623157e+308, -1.853481, -6.29961, -1.7976931348623157e+308, -0.9796149999999999, -1.7976931348623157e+308, -3.457229, -1.7976931348623157e+308, -3.8143920000000002, -0.024834000000000023, -0.44159, -1.7976931348623157e+308]\n",
      "Measures: [[2, 969.46637], [5, 1703.686157], [4, 886.21228], [2, 588.011108], [2, 400], [5, 676.282166], [4, 1190.745117], [2, 400], [2, 589.663391], [2, 400], [5, 1057.231445], [2, 400], [4, 895.685242], [2, 357.241241], [2, 289.000183], [2, 400]]\n"
     ]
    },
    {
     "name": "stderr",
     "output_type": "stream",
     "text": [
      "WARNING:root:Non-finite objective value: -inf. Using placeholder.\n",
      "WARNING:root:Non-finite objective value: -inf. Using placeholder.\n",
      "WARNING:root:Non-finite objective value: -inf. Using placeholder.\n",
      "INFO:root:> 32 iterations completed\n",
      "INFO:root:  - Archive size: 15\n",
      "INFO:root:  - Archive coverage: 0.9375\n",
      "INFO:__main__:Crossover 1, Child: Parent1 ID 26.516291365008982, Parent2 ID 20.325134065996817, Child ID 32.8414254310058\n",
      "INFO:__main__:Crossover 2, Child: Parent1 ID 2.8785248199889706, Parent2 ID 10.87599789486266, Child ID 32.75452271485163\n",
      "INFO:__main__:Crossover 3, Child: Parent1 ID 2.8785248199889706, Parent2 ID 1.2957555700457297, Child ID 32.1742803900347\n",
      "INFO:__main__:Crossover 4, Child: Parent1 ID 13.184387201499957, Parent2 ID 0.24138619847986154, Child ID 32.42577339997982\n",
      "INFO:__main__:Crossover 5, Child: Parent1 ID 20.325134065996817, Parent2 ID 2.8785248199889706, Child ID 32.20365888598579\n",
      "INFO:__main__:Crossover 6, Child: Parent1 ID 2.8785248199889706, Parent2 ID 26.516291365008982, Child ID 32.39481618499795\n",
      "INFO:__main__:Crossover 7, Child: Parent1 ID 2.8785248199889706, Parent2 ID 1.2957555700457297, Child ID 32.1742803900347\n",
      "INFO:__main__:Crossover 8, Child: Parent1 ID 1.841925783759605, Parent2 ID 13.184387201499957, Child ID 32.026312985259565\n"
     ]
    },
    {
     "name": "stdout",
     "output_type": "stream",
     "text": [
      "Before tell: Archive size = 15\n",
      "After tell: Archive size = 15\n",
      "Objectives: [-0.694397, -1.7976931348623157e+308, -1.072189, -3.012856, -2.431641, 1.4570120000000002, -3.845928, -7.075584, -0.753309, -3.710182, -1.7976931348623157e+308, -1.7976931348623157e+308, -3.6548920000000003, -2.635238, -2.524167, -3.401039]\n",
      "Measures: [[5, 1248.822266], [2, 400], [2, 291.057617], [2, 961.969543], [3, 1280.131958], [5, 668.068909], [2, 588.143677], [5, 1731.343384], [3, 784.821838], [4, 877.833435], [2, 400], [2, 400], [5, 1696.046021], [5, 1696.449341], [2, 266.717773], [5, 1382.788696]]\n"
     ]
    },
    {
     "name": "stderr",
     "output_type": "stream",
     "text": [
      "WARNING:root:Non-finite objective value: -inf. Using placeholder.\n",
      "INFO:root:> 33 iterations completed\n",
      "INFO:root:  - Archive size: 15\n",
      "INFO:root:  - Archive coverage: 0.9375\n"
     ]
    },
    {
     "name": "stdout",
     "output_type": "stream",
     "text": [
      "Before tell: Archive size = 15\n",
      "After tell: Archive size = 15\n",
      "Objectives: [4.098282, 2.462593, -4.206863, -3.19989, -4.743408, -2.734218, -1.7976931348623157e+308, -1.0925449999999999]\n",
      "Measures: [[4, 1193.054443], [4, 1320.019653], [3, 774.927368], [3, 938.887085], [3, 1216.447876], [4, 672.332031], [2, 400], [2, 512.22467]]\n"
     ]
    },
    {
     "name": "stderr",
     "output_type": "stream",
     "text": [
      "WARNING:root:Non-finite objective value: -inf. Using placeholder.\n",
      "WARNING:root:Non-finite objective value: -inf. Using placeholder.\n",
      "INFO:root:> 34 iterations completed\n",
      "INFO:root:  - Archive size: 15\n",
      "INFO:root:  - Archive coverage: 0.9375\n",
      "INFO:__main__:Crossover 1, Child: Parent1 ID 2.8785248199889706, Parent2 ID 1.841925783759605, Child ID 34.720450603748574\n",
      "INFO:__main__:Crossover 2, Child: Parent1 ID 22.65153872572966, Parent2 ID 0.3805266407487209, Child ID 34.032065366478385\n",
      "INFO:__main__:Crossover 3, Child: Parent1 ID 26.809076523697478, Parent2 ID 33.8414254310058, Child ID 34.65050195470328\n",
      "INFO:__main__:Crossover 4, Child: Parent1 ID 19.65153872572966, Parent2 ID 20.325134065996817, Child ID 34.97667279172648\n",
      "INFO:__main__:Crossover 5, Child: Parent1 ID 32.75452271485163, Parent2 ID 1.841925783759605, Child ID 34.59644849861124\n",
      "INFO:__main__:Crossover 6, Child: Parent1 ID 20.325134065996817, Parent2 ID 1.841925783759605, Child ID 34.16705984975642\n",
      "INFO:__main__:Crossover 7, Child: Parent1 ID 22.65153872572966, Parent2 ID 33.8414254310058, Child ID 34.49296415673547\n",
      "INFO:__main__:Crossover 8, Child: Parent1 ID 2.8785248199889706, Parent2 ID 26.809076523697478, Child ID 34.687601343686445\n"
     ]
    },
    {
     "name": "stdout",
     "output_type": "stream",
     "text": [
      "Before tell: Archive size = 15\n",
      "After tell: Archive size = 15\n",
      "Objectives: [-5.835598, -1.813625, -1.7976931348623157e+308, 6.783913, -1.155907, -4.460067, -7.7316590000000005, -0.5352319999999999, -2.2271880000000004, -13.297087999999999, -2.171188, -1.7976931348623157e+308, 0.581474, 1.2905499999999996, 4.070647999999999, 3.3956749999999998]\n",
      "Measures: [[2, 600.345764], [2, 302.566589], [2, 400], [4, 1062.35376], [2, 579.412354], [2, 954.158325], [3, 807.460876], [4, 741.429016], [5, 1658.916382], [5, 1058.826416], [2, 337.114716], [2, 400], [5, 1084.343872], [5, 1370.86853], [3, 795.279968], [5, 1729.050171]]\n"
     ]
    },
    {
     "name": "stderr",
     "output_type": "stream",
     "text": [
      "INFO:root:> 35 iterations completed\n",
      "INFO:root:  - Archive size: 15\n",
      "INFO:root:  - Archive coverage: 0.9375\n"
     ]
    },
    {
     "name": "stdout",
     "output_type": "stream",
     "text": [
      "Before tell: Archive size = 15\n",
      "After tell: Archive size = 15\n",
      "Objectives: [-2.673569, 1.536652, -3.044607, -9.467621000000001, -2.494735, -5.629066, 6.004933, 4.179790000000001]\n",
      "Measures: [[3, 708.631897], [5, 1718.14502], [3, 835.969727], [4, 2091.101807], [4, 1128.989258], [3, 1106.580688], [4, 1179.110229], [3, 672.592407]]\n"
     ]
    },
    {
     "name": "stderr",
     "output_type": "stream",
     "text": [
      "WARNING:root:Non-finite objective value: -inf. Using placeholder.\n",
      "WARNING:root:Non-finite objective value: -inf. Using placeholder.\n",
      "WARNING:root:Non-finite objective value: -inf. Using placeholder.\n",
      "WARNING:root:Non-finite objective value: -inf. Using placeholder.\n",
      "INFO:root:> 36 iterations completed\n",
      "INFO:root:  - Archive size: 15\n",
      "INFO:root:  - Archive coverage: 0.9375\n"
     ]
    },
    {
     "name": "stdout",
     "output_type": "stream",
     "text": [
      "Before tell: Archive size = 15\n",
      "After tell: Archive size = 15\n",
      "Objectives: [-2.108094, 10.731200999999999, -4.640304, -1.7976931348623157e+308, 0.1412659999999999, -1.7976931348623157e+308, -2.864212, -1.7976931348623157e+308, -3.5672, 9.78801, -4.355194, -1.8274460000000001, -1.7976931348623157e+308, -2.675712, 0.18200700000000003, -5.510948]\n",
      "Measures: [[5, 1673.541504], [5, 1389.505493], [3, 799.160767], [2, 400], [5, 1707.182495], [2, 400], [4, 746.813354], [2, 400], [4, 1054.956665], [5, 1776.863525], [5, 1383.291504], [5, 1085.429321], [2, 400], [5, 680.919617], [5, 1712.455933], [4, 622.910828]]\n"
     ]
    },
    {
     "name": "stderr",
     "output_type": "stream",
     "text": [
      "WARNING:root:Non-finite objective value: -inf. Using placeholder.\n",
      "WARNING:root:Non-finite objective value: -inf. Using placeholder.\n",
      "WARNING:root:Non-finite objective value: -inf. Using placeholder.\n",
      "WARNING:root:Non-finite objective value: -inf. Using placeholder.\n",
      "WARNING:root:Non-finite objective value: -inf. Using placeholder.\n",
      "INFO:root:> 37 iterations completed\n",
      "INFO:root:  - Archive size: 15\n",
      "INFO:root:  - Archive coverage: 0.9375\n"
     ]
    },
    {
     "name": "stdout",
     "output_type": "stream",
     "text": [
      "Before tell: Archive size = 15\n",
      "After tell: Archive size = 15\n",
      "Objectives: [-3.3242410000000002, -4.099201, -1.7976931348623157e+308, 0.423126, -2.7193, 1.375092, -1.175659, -1.917999, -1.7976931348623157e+308, -2.6687469999999998, -3.781723, -1.7976931348623157e+308, 1.6849020000000001, 0.23446999999999998, -1.7976931348623157e+308, -1.7976931348623157e+308]\n",
      "Measures: [[2, 950.112488], [5, 1372.789673], [2, 400], [3, 635.472839], [2, 377.410065], [5, 1056.593994], [3, 709.797424], [3, 1319.4375], [2, 400], [3, 806.252747], [3, 709.171326], [2, 400], [4, 710.743042], [2, 967.858337], [2, 400], [2, 400]]\n"
     ]
    },
    {
     "name": "stderr",
     "output_type": "stream",
     "text": [
      "WARNING:root:Non-finite objective value: -inf. Using placeholder.\n",
      "WARNING:root:Non-finite objective value: -inf. Using placeholder.\n",
      "INFO:root:> 38 iterations completed\n",
      "INFO:root:  - Archive size: 15\n",
      "INFO:root:  - Archive coverage: 0.9375\n"
     ]
    },
    {
     "name": "stdout",
     "output_type": "stream",
     "text": [
      "Before tell: Archive size = 15\n",
      "After tell: Archive size = 15\n",
      "Objectives: [-1.44076, -2.0925900000000004, -1.7976931348623157e+308, 2.2822839999999998, -1.6890640000000001, -0.3020860000000001, -1.1969279999999998, 8.304756000000001, -6.742295, -3.815094, 0.07748800000000022, -1.7976931348623157e+308, -1.36322, -6.749085, -1.001699, -2.9161989999999998]\n",
      "Measures: [[5, 1347.262573], [5, 1381.843262], [2, 400], [5, 810.445984], [2, 357.990204], [5, 1383.150269], [2, 968.702393], [5, 1758.154663], [4, 1046.664673], [7, 1746.540649], [5, 1126.903442], [2, 400], [5, 674.973633], [4, 1047.004395], [5, 1340.633911], [2, 973.381592]]\n"
     ]
    },
    {
     "name": "stderr",
     "output_type": "stream",
     "text": [
      "WARNING:root:Non-finite objective value: -inf. Using placeholder.\n",
      "WARNING:root:Non-finite objective value: -inf. Using placeholder.\n",
      "WARNING:root:Non-finite objective value: -inf. Using placeholder.\n",
      "INFO:root:> 39 iterations completed\n",
      "INFO:root:  - Archive size: 15\n",
      "INFO:root:  - Archive coverage: 0.9375\n",
      "INFO:__main__:Crossover 1, Child: Parent1 ID 26.516291365008982, Parent2 ID 36.87852481998897, Child ID 39.39481618499795\n",
      "INFO:__main__:Crossover 2, Child: Parent1 ID 26.809076523697478, Parent2 ID 32.75452271485163, Child ID 39.56359923854911\n",
      "INFO:__main__:Crossover 3, Child: Parent1 ID 34.687601343686445, Parent2 ID 19.26974149124491, Child ID 39.95734283493135\n",
      "INFO:__main__:Crossover 4, Child: Parent1 ID 34.687601343686445, Parent2 ID 20.325134065996817, Child ID 39.01273540968326\n",
      "INFO:__main__:Crossover 5, Child: Parent1 ID 19.26974149124491, Parent2 ID 36.87852481998897, Child ID 39.14826631123388\n",
      "INFO:__main__:Crossover 6, Child: Parent1 ID 13.184387201499957, Parent2 ID 13.184387201499957, Child ID 39.36877440299992\n",
      "INFO:__main__:Crossover 7, Child: Parent1 ID 34.687601343686445, Parent2 ID 26.516291365008982, Child ID 39.20389270869543\n",
      "INFO:__main__:Crossover 8, Child: Parent1 ID 1.841925783759605, Parent2 ID 26.516291365008982, Child ID 39.35821714876859\n"
     ]
    },
    {
     "name": "stdout",
     "output_type": "stream",
     "text": [
      "Before tell: Archive size = 15\n",
      "After tell: Archive size = 15\n",
      "Objectives: [-6.422226, -1.479469, -2.2873229999999998, 0.28011300000000006, 0.354142, -1.272297, -2.339439, -1.7976931348623157e+308, -1.0314180000000002, -2.9698640000000003, -1.7976931348623157e+308, 2.3338010000000002, -8.532729999999999, -1.7954750000000002, 7.177471000000001, -1.7976931348623157e+308]\n",
      "Measures: [[5, 1730.269897], [4, 698.822388], [5, 1698.822632], [3, 630.040039], [2, 585.714478], [2, 267.250549], [4, 1075.897217], [2, 400], [5, 763.457825], [7, 1722.530762], [2, 400], [5, 1336.064819], [5, 1307.914551], [3, 802.367859], [5, 1361.205078], [2, 400]]\n"
     ]
    },
    {
     "name": "stderr",
     "output_type": "stream",
     "text": [
      "INFO:root:> 40 iterations completed\n",
      "INFO:root:  - Archive size: 15\n",
      "INFO:root:  - Archive coverage: 0.9375\n"
     ]
    },
    {
     "name": "stdout",
     "output_type": "stream",
     "text": [
      "Before tell: Archive size = 15\n",
      "After tell: Archive size = 15\n",
      "Objectives: [-0.940481, -2.519325, -1.3108819999999999, 2.865463, -1.056298, -1.419966, -0.688225, 0.06445299999999998]\n",
      "Measures: [[4, 646.18927], [3, 720.386658], [2, 802.793213], [3, 1284.297852], [3, 863.875061], [2, 448.122314], [4, 661.995972], [4, 877.273865]]\n"
     ]
    },
    {
     "name": "stderr",
     "output_type": "stream",
     "text": [
      "WARNING:root:Non-finite objective value: -inf. Using placeholder.\n",
      "WARNING:root:Non-finite objective value: -inf. Using placeholder.\n",
      "INFO:root:> 41 iterations completed\n",
      "INFO:root:  - Archive size: 15\n",
      "INFO:root:  - Archive coverage: 0.9375\n",
      "INFO:__main__:Crossover 1, Child: Parent1 ID 39.01273540968326, Parent2 ID 1.841925783759605, Child ID 41.854661193442865\n",
      "INFO:__main__:Crossover 2, Child: Parent1 ID 13.184387201499957, Parent2 ID 13.184387201499957, Child ID 41.36877440299992\n",
      "INFO:__main__:Crossover 3, Child: Parent1 ID 28.010008751940887, Parent2 ID 0.3805266407487209, Child ID 41.39053539268961\n",
      "INFO:__main__:Crossover 4, Child: Parent1 ID 13.184387201499957, Parent2 ID 0.3805266407487209, Child ID 41.56491384224868\n",
      "INFO:__main__:Crossover 5, Child: Parent1 ID 39.01273540968326, Parent2 ID 35.875997894862664, Child ID 41.88873330454592\n",
      "INFO:__main__:Crossover 6, Child: Parent1 ID 19.65153872572966, Parent2 ID 26.516291365008982, Child ID 41.16783009073865\n",
      "INFO:__main__:Crossover 7, Child: Parent1 ID 26.809076523697478, Parent2 ID 39.01273540968326, Child ID 41.82181193338074\n",
      "INFO:__main__:Crossover 8, Child: Parent1 ID 1.841925783759605, Parent2 ID 36.87852481998897, Child ID 41.720450603748574\n"
     ]
    },
    {
     "name": "stdout",
     "output_type": "stream",
     "text": [
      "Before tell: Archive size = 15\n",
      "After tell: Archive size = 15\n",
      "Objectives: [0.6686549999999998, -0.743576, 0.47117699999999996, -1.7976931348623157e+308, -2.487434, -1.7976931348623157e+308, -1.4319039999999998, -0.6743009999999998, -1.237244, -6.486245, -5.496628, 8.527534, -2.517746, -1.221817, -6.343355, -5.493881]\n",
      "Measures: [[5, 1698.62854], [5, 1083.671631], [5, 1063.727539], [2, 400], [4, 729.08667], [2, 400], [5, 670.286987], [4, 715.246033], [3, 618.714783], [5, 1729.593872], [4, 1267.050293], [5, 1349.332275], [2, 952.297729], [5, 675.198059], [7, 1759.916748], [5, 1320.062256]]\n"
     ]
    },
    {
     "name": "stderr",
     "output_type": "stream",
     "text": [
      "WARNING:root:Non-finite objective value: -inf. Using placeholder.\n",
      "INFO:root:> 42 iterations completed\n",
      "INFO:root:  - Archive size: 15\n",
      "INFO:root:  - Archive coverage: 0.9375\n"
     ]
    },
    {
     "name": "stdout",
     "output_type": "stream",
     "text": [
      "Before tell: Archive size = 15\n",
      "After tell: Archive size = 15\n",
      "Objectives: [-1.520813, -1.759521, -1.7976931348623157e+308, -0.9325410000000001, -2.666108, 0.7159039999999999, -1.402863, 0.865434]\n",
      "Measures: [[3, 820.925049], [2, 1246.986328], [2, 400], [3, 855.97406], [4, 952.251099], [5, 1251.307739], [3, 860.17157], [3, 815.558411]]\n"
     ]
    },
    {
     "name": "stderr",
     "output_type": "stream",
     "text": [
      "WARNING:root:Non-finite objective value: -inf. Using placeholder.\n",
      "WARNING:root:Non-finite objective value: -inf. Using placeholder.\n",
      "WARNING:root:Non-finite objective value: -inf. Using placeholder.\n",
      "WARNING:root:Non-finite objective value: -inf. Using placeholder.\n",
      "WARNING:root:Non-finite objective value: -inf. Using placeholder.\n",
      "INFO:root:> 43 iterations completed\n",
      "INFO:root:  - Archive size: 15\n",
      "INFO:root:  - Archive coverage: 0.9375\n"
     ]
    },
    {
     "name": "stdout",
     "output_type": "stream",
     "text": [
      "Before tell: Archive size = 15\n",
      "After tell: Archive size = 15\n",
      "Objectives: [-1.7976931348623157e+308, -1.7976931348623157e+308, -0.672378, -1.277393, -1.7916709999999998, -1.282456, -1.7976931348623157e+308, -0.102158, -1.7976931348623157e+308, 2.485626, -2.545776, -5.510948, -1.504425, -0.5267099999999999, -1.7976931348623157e+308, -3.92453]\n",
      "Measures: [[2, 400], [2, 400], [3, 785.775574], [3, 665.836548], [3, 627.460876], [5, 674.110413], [2, 400], [2, 972.994507], [2, 400], [5, 1316.921265], [4, 1193.490601], [4, 622.910828], [5, 1069.905396], [2, 575.232117], [2, 400], [5, 1718.389404]]\n"
     ]
    },
    {
     "name": "stderr",
     "output_type": "stream",
     "text": [
      "WARNING:root:Non-finite objective value: -inf. Using placeholder.\n",
      "WARNING:root:Non-finite objective value: -inf. Using placeholder.\n",
      "INFO:root:> 44 iterations completed\n",
      "INFO:root:  - Archive size: 15\n",
      "INFO:root:  - Archive coverage: 0.9375\n"
     ]
    },
    {
     "name": "stdout",
     "output_type": "stream",
     "text": [
      "Before tell: Archive size = 15\n",
      "After tell: Archive size = 15\n",
      "Objectives: [-0.5170140000000001, -4.389873, -4.024353, -1.7976931348623157e+308, -0.3932, -5.510948, -3.30455, 1.875481, -1.7976931348623157e+308, -3.681906, -1.420822, -10.989189, -1.578506, -0.843452, -5.877639, -5.510948]\n",
      "Measures: [[5, 674.894104], [5, 1784.717407], [3, 803.599609], [2, 400], [2, 577.192383], [4, 622.910828], [4, 1168.888306], [5, 1378.686035], [2, 400], [5, 675.770935], [2, 360.983276], [5, 1314.52478], [4, 1268.500488], [2, 968.722473], [5, 1744.384155], [4, 622.910828]]\n"
     ]
    },
    {
     "name": "stderr",
     "output_type": "stream",
     "text": [
      "WARNING:root:Non-finite objective value: -inf. Using placeholder.\n",
      "WARNING:root:Non-finite objective value: -inf. Using placeholder.\n",
      "WARNING:root:Non-finite objective value: -inf. Using placeholder.\n",
      "INFO:root:> 45 iterations completed\n",
      "INFO:root:  - Archive size: 15\n",
      "INFO:root:  - Archive coverage: 0.9375\n",
      "INFO:__main__:Crossover 1, Child: Parent1 ID 13.184387201499957, Parent2 ID 36.87852481998897, Child ID 45.06291202148893\n",
      "INFO:__main__:Crossover 2, Child: Parent1 ID 39.01273540968326, Parent2 ID 13.184387201499957, Child ID 45.19712261118322\n",
      "INFO:__main__:Crossover 3, Child: Parent1 ID 26.516291365008982, Parent2 ID 28.010008751940887, Child ID 45.52630011694987\n",
      "INFO:__main__:Crossover 4, Child: Parent1 ID 0.3805266407487209, Parent2 ID 19.65153872572966, Child ID 45.032065366478385\n",
      "INFO:__main__:Crossover 5, Child: Parent1 ID 28.010008751940887, Parent2 ID 19.26974149124491, Child ID 45.2797502431858\n",
      "INFO:__main__:Crossover 6, Child: Parent1 ID 13.184387201499957, Parent2 ID 26.516291365008982, Child ID 45.70067856650894\n",
      "INFO:__main__:Crossover 7, Child: Parent1 ID 35.651538725729665, Parent2 ID 39.01273540968326, Child ID 45.664274135412924\n",
      "INFO:__main__:Crossover 8, Child: Parent1 ID 35.875997894862664, Parent2 ID 33.8414254310058, Child ID 45.71742332586847\n"
     ]
    },
    {
     "name": "stdout",
     "output_type": "stream",
     "text": [
      "Before tell: Archive size = 15\n",
      "After tell: Archive size = 15\n",
      "Objectives: [4.10347, -5.325348, -1.2986300000000002, -3.668228, -2.789345, -1.7976931348623157e+308, -1.7976931348623157e+308, -1.2493500000000002, -0.487801, 1.529587, -1.7976931348623157e+308, -1.861275, 0.02188100000000004, -0.36644699999999997, -0.030928999999999984, 1.629929]\n",
      "Measures: [[5, 1394.00415], [4, 718.126404], [5, 1728.12561], [2, 972.442749], [2, 553.332642], [2, 400], [2, 400], [7, 1770.090942], [3, 650.490906], [5, 1388.507935], [2, 400], [2, 416.30188], [2, 586.201965], [2, 949.312012], [5, 1688.836304], [7, 1719.799316]]\n"
     ]
    },
    {
     "name": "stderr",
     "output_type": "stream",
     "text": [
      "WARNING:root:Non-finite objective value: -inf. Using placeholder.\n",
      "INFO:root:> 46 iterations completed\n",
      "INFO:root:  - Archive size: 15\n",
      "INFO:root:  - Archive coverage: 0.9375\n"
     ]
    },
    {
     "name": "stdout",
     "output_type": "stream",
     "text": [
      "Before tell: Archive size = 15\n",
      "After tell: Archive size = 15\n",
      "Objectives: [-2.5904849999999997, -3.44381, 0.7582549999999999, -1.7976931348623157e+308, -4.0815660000000005, -1.922638, -0.02525299999999997, -3.62706]\n",
      "Measures: [[3, 957.614014], [3, 1204.640869], [5, 1329.416016], [2, 400], [3, 1687.402466], [3, 406.064697], [5, 1590.342529], [4, 811.120361]]\n"
     ]
    },
    {
     "name": "stderr",
     "output_type": "stream",
     "text": [
      "WARNING:root:Non-finite objective value: -inf. Using placeholder.\n",
      "WARNING:root:Non-finite objective value: -inf. Using placeholder.\n",
      "WARNING:root:Non-finite objective value: -inf. Using placeholder.\n",
      "WARNING:root:Non-finite objective value: -inf. Using placeholder.\n",
      "WARNING:root:Non-finite objective value: -inf. Using placeholder.\n",
      "INFO:root:> 47 iterations completed\n",
      "INFO:root:  - Archive size: 15\n",
      "INFO:root:  - Archive coverage: 0.9375\n",
      "INFO:__main__:Crossover 1, Child: Parent1 ID 33.8414254310058, Parent2 ID 26.516291365008982, Child ID 47.357716796014785\n",
      "INFO:__main__:Crossover 2, Child: Parent1 ID 1.841925783759605, Parent2 ID 35.651538725729665, Child ID 47.49346450948927\n",
      "INFO:__main__:Crossover 3, Child: Parent1 ID 39.01273540968326, Parent2 ID 39.01273540968326, Child ID 47.02547081936652\n",
      "INFO:__main__:Crossover 4, Child: Parent1 ID 26.809076523697478, Parent2 ID 39.01273540968326, Child ID 47.82181193338074\n",
      "INFO:__main__:Crossover 5, Child: Parent1 ID 36.87852481998897, Parent2 ID 32.75452271485163, Child ID 47.6330475348406\n",
      "INFO:__main__:Crossover 6, Child: Parent1 ID 26.809076523697478, Parent2 ID 0.3805266407487209, Child ID 47.1896031644462\n",
      "INFO:__main__:Crossover 7, Child: Parent1 ID 33.8414254310058, Parent2 ID 26.516291365008982, Child ID 47.357716796014785\n",
      "INFO:__main__:Crossover 8, Child: Parent1 ID 26.516291365008982, Parent2 ID 26.516291365008982, Child ID 47.032582730017964\n"
     ]
    },
    {
     "name": "stdout",
     "output_type": "stream",
     "text": [
      "Before tell: Archive size = 15\n",
      "After tell: Archive size = 15\n",
      "Objectives: [-1.7976931348623157e+308, -0.9013979999999999, -4.116684, -1.7976931348623157e+308, -0.04895099999999997, 0.2919540000000005, -0.733169, -1.7976931348623157e+308, -12.076798, -1.1192250000000001, -1.7976931348623157e+308, -1.226525, -2.6074219999999997, -2.1726150000000004, 0.761837, -1.7976931348623157e+308]\n",
      "Measures: [[2, 400], [3, 644.72467], [4, 1270.463379], [2, 400], [5, 1703.252563], [4, 1055.734009], [2, 558.17749], [2, 400], [7, 1732.509521], [2, 957.90448], [2, 400], [3, 626.084595], [5, 1104.715576], [5, 1322.563232], [2, 580.062866], [2, 400]]\n"
     ]
    },
    {
     "ename": "KeyboardInterrupt",
     "evalue": "",
     "output_type": "error",
     "traceback": [
      "\u001b[1;31m---------------------------------------------------------------------------\u001b[0m",
      "\u001b[1;31mKeyboardInterrupt\u001b[0m                         Traceback (most recent call last)",
      "Cell \u001b[1;32mIn[7], line 1\u001b[0m\n\u001b[1;32m----> 1\u001b[0m final_archive \u001b[38;5;241m=\u001b[39m \u001b[43mrun_map_elites\u001b[49m\u001b[43m(\u001b[49m\u001b[43mITERATIONS\u001b[49m\u001b[43m)\u001b[49m\n",
      "Cell \u001b[1;32mIn[6], line 23\u001b[0m, in \u001b[0;36mrun_map_elites\u001b[1;34m(iterations)\u001b[0m\n\u001b[0;32m     21\u001b[0m \u001b[38;5;66;03m# Use Dask for parallel evaluation\u001b[39;00m\n\u001b[0;32m     22\u001b[0m futures \u001b[38;5;241m=\u001b[39m client\u001b[38;5;241m.\u001b[39mmap(evaluate_solution, [array_to_solution(sol) \u001b[38;5;28;01mfor\u001b[39;00m sol \u001b[38;5;129;01min\u001b[39;00m solution_batch])\n\u001b[1;32m---> 23\u001b[0m results \u001b[38;5;241m=\u001b[39m \u001b[43mclient\u001b[49m\u001b[38;5;241;43m.\u001b[39;49m\u001b[43mgather\u001b[49m\u001b[43m(\u001b[49m\u001b[43mfutures\u001b[49m\u001b[43m)\u001b[49m\n\u001b[0;32m     25\u001b[0m objectives \u001b[38;5;241m=\u001b[39m []\n\u001b[0;32m     26\u001b[0m measures_list \u001b[38;5;241m=\u001b[39m []\n",
      "File \u001b[1;32m~\\AppData\\Local\\Packages\\PythonSoftwareFoundation.Python.3.11_qbz5n2kfra8p0\\LocalCache\\local-packages\\Python311\\site-packages\\distributed\\client.py:2374\u001b[0m, in \u001b[0;36mClient.gather\u001b[1;34m(self, futures, errors, direct, asynchronous)\u001b[0m\n\u001b[0;32m   2371\u001b[0m     local_worker \u001b[38;5;241m=\u001b[39m \u001b[38;5;28;01mNone\u001b[39;00m\n\u001b[0;32m   2373\u001b[0m \u001b[38;5;28;01mwith\u001b[39;00m shorten_traceback():\n\u001b[1;32m-> 2374\u001b[0m     \u001b[38;5;28;01mreturn\u001b[39;00m \u001b[38;5;28;43mself\u001b[39;49m\u001b[38;5;241;43m.\u001b[39;49m\u001b[43msync\u001b[49m\u001b[43m(\u001b[49m\n\u001b[0;32m   2375\u001b[0m \u001b[43m        \u001b[49m\u001b[38;5;28;43mself\u001b[39;49m\u001b[38;5;241;43m.\u001b[39;49m\u001b[43m_gather\u001b[49m\u001b[43m,\u001b[49m\n\u001b[0;32m   2376\u001b[0m \u001b[43m        \u001b[49m\u001b[43mfutures\u001b[49m\u001b[43m,\u001b[49m\n\u001b[0;32m   2377\u001b[0m \u001b[43m        \u001b[49m\u001b[43merrors\u001b[49m\u001b[38;5;241;43m=\u001b[39;49m\u001b[43merrors\u001b[49m\u001b[43m,\u001b[49m\n\u001b[0;32m   2378\u001b[0m \u001b[43m        \u001b[49m\u001b[43mdirect\u001b[49m\u001b[38;5;241;43m=\u001b[39;49m\u001b[43mdirect\u001b[49m\u001b[43m,\u001b[49m\n\u001b[0;32m   2379\u001b[0m \u001b[43m        \u001b[49m\u001b[43mlocal_worker\u001b[49m\u001b[38;5;241;43m=\u001b[39;49m\u001b[43mlocal_worker\u001b[49m\u001b[43m,\u001b[49m\n\u001b[0;32m   2380\u001b[0m \u001b[43m        \u001b[49m\u001b[43masynchronous\u001b[49m\u001b[38;5;241;43m=\u001b[39;49m\u001b[43masynchronous\u001b[49m\u001b[43m,\u001b[49m\n\u001b[0;32m   2381\u001b[0m \u001b[43m    \u001b[49m\u001b[43m)\u001b[49m\n",
      "File \u001b[1;32mC:\\Program Files\\WindowsApps\\PythonSoftwareFoundation.Python.3.11_3.11.2544.0_x64__qbz5n2kfra8p0\\Lib\\threading.py:629\u001b[0m, in \u001b[0;36mEvent.wait\u001b[1;34m(self, timeout)\u001b[0m\n\u001b[0;32m    627\u001b[0m signaled \u001b[38;5;241m=\u001b[39m \u001b[38;5;28mself\u001b[39m\u001b[38;5;241m.\u001b[39m_flag\n\u001b[0;32m    628\u001b[0m \u001b[38;5;28;01mif\u001b[39;00m \u001b[38;5;129;01mnot\u001b[39;00m signaled:\n\u001b[1;32m--> 629\u001b[0m     signaled \u001b[38;5;241m=\u001b[39m \u001b[38;5;28;43mself\u001b[39;49m\u001b[38;5;241;43m.\u001b[39;49m\u001b[43m_cond\u001b[49m\u001b[38;5;241;43m.\u001b[39;49m\u001b[43mwait\u001b[49m\u001b[43m(\u001b[49m\u001b[43mtimeout\u001b[49m\u001b[43m)\u001b[49m\n\u001b[0;32m    630\u001b[0m \u001b[38;5;28;01mreturn\u001b[39;00m signaled\n",
      "File \u001b[1;32mC:\\Program Files\\WindowsApps\\PythonSoftwareFoundation.Python.3.11_3.11.2544.0_x64__qbz5n2kfra8p0\\Lib\\threading.py:331\u001b[0m, in \u001b[0;36mCondition.wait\u001b[1;34m(self, timeout)\u001b[0m\n\u001b[0;32m    329\u001b[0m \u001b[38;5;28;01melse\u001b[39;00m:\n\u001b[0;32m    330\u001b[0m     \u001b[38;5;28;01mif\u001b[39;00m timeout \u001b[38;5;241m>\u001b[39m \u001b[38;5;241m0\u001b[39m:\n\u001b[1;32m--> 331\u001b[0m         gotit \u001b[38;5;241m=\u001b[39m \u001b[43mwaiter\u001b[49m\u001b[38;5;241;43m.\u001b[39;49m\u001b[43macquire\u001b[49m\u001b[43m(\u001b[49m\u001b[38;5;28;43;01mTrue\u001b[39;49;00m\u001b[43m,\u001b[49m\u001b[43m \u001b[49m\u001b[43mtimeout\u001b[49m\u001b[43m)\u001b[49m\n\u001b[0;32m    332\u001b[0m     \u001b[38;5;28;01melse\u001b[39;00m:\n\u001b[0;32m    333\u001b[0m         gotit \u001b[38;5;241m=\u001b[39m waiter\u001b[38;5;241m.\u001b[39macquire(\u001b[38;5;28;01mFalse\u001b[39;00m)\n",
      "\u001b[1;31mKeyboardInterrupt\u001b[0m: "
     ]
    }
   ],
   "source": [
    "final_archive = run_map_elites(ITERATIONS)"
   ]
  },
  {
   "cell_type": "markdown",
   "metadata": {},
   "source": [
    "## Visualize Results"
   ]
  },
  {
   "cell_type": "code",
   "execution_count": 9,
   "metadata": {},
   "outputs": [
    {
     "ename": "NameError",
     "evalue": "name 'final_archive' is not defined",
     "output_type": "error",
     "traceback": [
      "\u001b[1;31m---------------------------------------------------------------------------\u001b[0m",
      "\u001b[1;31mNameError\u001b[0m                                 Traceback (most recent call last)",
      "Cell \u001b[1;32mIn[9], line 2\u001b[0m\n\u001b[0;32m      1\u001b[0m plt\u001b[38;5;241m.\u001b[39mfigure(figsize\u001b[38;5;241m=\u001b[39m(\u001b[38;5;241m10\u001b[39m, \u001b[38;5;241m8\u001b[39m))\n\u001b[1;32m----> 2\u001b[0m grid_archive_heatmap(\u001b[43mfinal_archive\u001b[49m)\n\u001b[0;32m      3\u001b[0m plt\u001b[38;5;241m.\u001b[39mtitle(\u001b[38;5;124m\"\u001b[39m\u001b[38;5;124mMAP-Elites Archive\u001b[39m\u001b[38;5;124m\"\u001b[39m)\n\u001b[0;32m      4\u001b[0m plt\u001b[38;5;241m.\u001b[39mxlabel(\u001b[38;5;124m\"\u001b[39m\u001b[38;5;124mTrack Size\u001b[39m\u001b[38;5;124m\"\u001b[39m)\n",
      "\u001b[1;31mNameError\u001b[0m: name 'final_archive' is not defined"
     ]
    },
    {
     "data": {
      "text/plain": [
       "<Figure size 1000x800 with 0 Axes>"
      ]
     },
     "metadata": {},
     "output_type": "display_data"
    }
   ],
   "source": [
    "plt.figure(figsize=(10, 8))\n",
    "grid_archive_heatmap(final_archive)\n",
    "plt.title(\"MAP-Elites Archive\")\n",
    "plt.xlabel(\"Track Size\")\n",
    "plt.ylabel(\"Track Length\")\n",
    "plt.show()"
   ]
  }
 ],
 "metadata": {
  "kernelspec": {
   "display_name": "Python 3",
   "language": "python",
   "name": "python3"
  },
  "language_info": {
   "codemirror_mode": {
    "name": "ipython",
    "version": 3
   },
   "file_extension": ".py",
   "mimetype": "text/x-python",
   "name": "python",
   "nbconvert_exporter": "python",
   "pygments_lexer": "ipython3",
   "version": "3.11.9"
  }
 },
 "nbformat": 4,
 "nbformat_minor": 4
}
