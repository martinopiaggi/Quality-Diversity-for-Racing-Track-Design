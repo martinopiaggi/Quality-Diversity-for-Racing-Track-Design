{
 "cells": [
  {
   "cell_type": "markdown",
   "metadata": {},
   "source": [
    "# MAP-Elites using pyribs"
   ]
  },
  {
   "cell_type": "code",
   "execution_count": 1,
   "metadata": {},
   "outputs": [],
   "source": [
    "import numpy as np\n",
    "import requests\n",
    "import json\n",
    "import random\n",
    "from ribs.archives import GridArchive\n",
    "from ribs.emitters import EmitterBase\n",
    "from ribs.schedulers import Scheduler\n",
    "from ribs.visualize import grid_archive_heatmap\n",
    "import matplotlib.pyplot as plt"
   ]
  },
  {
   "cell_type": "code",
   "execution_count": 2,
   "metadata": {},
   "outputs": [],
   "source": [
    "# Server JS which exposes the trackGenerations and genetic operators \n",
    "BASE_URL = 'http://localhost:4242'"
   ]
  },
  {
   "cell_type": "markdown",
   "metadata": {},
   "source": [
    "## Problem parameters"
   ]
  },
  {
   "cell_type": "code",
   "execution_count": 3,
   "metadata": {},
   "outputs": [],
   "source": [
    "POINTS_COUNT = 50  # Number of points in dataSet\n",
    "MAX_SELECTED_CELLS = 10  # Maximum number of selected cells\n",
    "solution_dim = POINTS_COUNT * 2 + MAX_SELECTED_CELLS * 2  # x and y for each point and selected cell\n",
    "track_size_range = (2, 5)  \n",
    "length_range = (400, 3000) # Range of lengths for the track just for the measures in the archive"
   ]
  },
  {
   "cell_type": "markdown",
   "metadata": {},
   "source": [
    "## Genetic operators"
   ]
  },
  {
   "cell_type": "code",
   "execution_count": 4,
   "metadata": {},
   "outputs": [],
   "source": [
    "class CustomEmitter(EmitterBase):\n",
    "    def __init__(self, archive, solution_dim, batch_size=36, bounds=None):\n",
    "        super().__init__(archive, solution_dim=solution_dim, bounds=bounds)\n",
    "        self.batch_size = batch_size\n",
    "        self.iteration = 0\n",
    "\n",
    "    def ask(self):\n",
    "        self.iteration += 1\n",
    "        if self.iteration <= 100:  # Initial population\n",
    "            return self.generate_initial_solutions()\n",
    "        elif np.random.random() < 0.5:  # Mutation\n",
    "            return self.mutate_solutions()\n",
    "        else:  # Crossover\n",
    "            return self.crossover_solutions()\n",
    "\n",
    "    def tell(self, solutions, objectives, measures, add_info, **kwargs):\n",
    "    \n",
    "        #archive.add(solutions, measures, objectives)\n",
    "        pass\n",
    "\n",
    "    def generate_initial_solutions(self):\n",
    "        solutions = []\n",
    "        for _ in range(self.batch_size):\n",
    "            solution = np.random.uniform(self.lower_bounds, self.upper_bounds, self.solution_dim)\n",
    "            solutions.append(solution)\n",
    "        return np.array(solutions)\n",
    "\n",
    "    def mutate_solutions(self):\n",
    "        parents = self.archive.sample_elites(self.batch_size)\n",
    "        mutated = []\n",
    "        for parent in parents:\n",
    "            parent_array = parent.solution\n",
    "            parent_dict = solution_array_to_dict(parent_array, parent.behavior[0])\n",
    "            response = requests.post(f'{BASE_URL}/mutate', json={\n",
    "                \"individual\": parent_dict,\n",
    "                \"intensityMutation\": 10  # Adjust as needed\n",
    "            })\n",
    "            mutated_dict = response.json()['mutated']\n",
    "            mutated.append(dict_to_solution_array(mutated_dict))\n",
    "        return np.array(mutated)\n",
    "\n",
    "    def crossover_solutions(self):\n",
    "        offspring = []\n",
    "        for _ in range(self.batch_size // 2):\n",
    "            parents = self.archive.sample_elites(2)\n",
    "            parent1 = solution_array_to_dict(parents[0].solution, parents[0].behavior[0])\n",
    "            parent2 = solution_array_to_dict(parents[1].solution, parents[1].behavior[0])\n",
    "            response = requests.post(f'{BASE_URL}/crossover', json={\n",
    "                \"mode\": \"voronoi\",\n",
    "                \"parent1\": parent1,\n",
    "                \"parent2\": parent2\n",
    "            })\n",
    "            child1, child2 = response.json()['offspring']\n",
    "            offspring.extend([dict_to_solution_array(child1), dict_to_solution_array(child2)])\n",
    "        return np.array(offspring)"
   ]
  },
  {
   "cell_type": "code",
   "execution_count": 5,
   "metadata": {},
   "outputs": [
    {
     "ename": "NameError",
     "evalue": "name 'length_range' is not defined",
     "output_type": "error",
     "traceback": [
      "\u001b[1;31m---------------------------------------------------------------------------\u001b[0m",
      "\u001b[1;31mNameError\u001b[0m                                 Traceback (most recent call last)",
      "Cell \u001b[1;32mIn[5], line 5\u001b[0m\n\u001b[0;32m      1\u001b[0m \u001b[38;5;66;03m# Create archive, emitter , scheduler\u001b[39;00m\n\u001b[0;32m      3\u001b[0m archive \u001b[38;5;241m=\u001b[39m GridArchive(solution_dim\u001b[38;5;241m=\u001b[39msolution_dim,\n\u001b[0;32m      4\u001b[0m                       dims\u001b[38;5;241m=\u001b[39m[\u001b[38;5;241m10\u001b[39m, \u001b[38;5;241m10\u001b[39m],  \u001b[38;5;66;03m# 10x10 grid, adjust as needed\u001b[39;00m\n\u001b[1;32m----> 5\u001b[0m                       ranges\u001b[38;5;241m=\u001b[39m[track_size_range, \u001b[43mlength_range\u001b[49m])\n\u001b[0;32m      8\u001b[0m emitter \u001b[38;5;241m=\u001b[39m CustomEmitter(archive, \n\u001b[0;32m      9\u001b[0m                         solution_dim\u001b[38;5;241m=\u001b[39msolution_dim, \n\u001b[0;32m     10\u001b[0m                         batch_size\u001b[38;5;241m=\u001b[39m\u001b[38;5;241m36\u001b[39m, \n\u001b[0;32m     11\u001b[0m                         bounds\u001b[38;5;241m=\u001b[39m[(\u001b[38;5;241m0\u001b[39m, \u001b[38;5;241m600\u001b[39m)] \u001b[38;5;241m*\u001b[39m solution_dim)  \u001b[38;5;66;03m# Assuming x and y coordinates are between 0 and 600\u001b[39;00m\n\u001b[0;32m     13\u001b[0m scheduler \u001b[38;5;241m=\u001b[39m Scheduler(archive, [emitter])\n",
      "\u001b[1;31mNameError\u001b[0m: name 'length_range' is not defined"
     ]
    }
   ],
   "source": [
    "# Create archive, emitter , scheduler\n",
    "\n",
    "archive = GridArchive(solution_dim=solution_dim,\n",
    "                      dims=[10, 10],  # 10x10 grid, adjust as needed\n",
    "                      ranges=[track_size_range, length_range])\n",
    "\n",
    "\n",
    "emitter = CustomEmitter(archive, \n",
    "                        solution_dim=solution_dim, \n",
    "                        batch_size=36, \n",
    "                        bounds=[(0, 600)] * solution_dim)  # Assuming x and y coordinates are between 0 and 600\n",
    "\n",
    "scheduler = Scheduler(archive, [emitter])"
   ]
  },
  {
   "cell_type": "markdown",
   "metadata": {},
   "source": [
    "### Helper functions"
   ]
  },
  {
   "cell_type": "code",
   "execution_count": 6,
   "metadata": {},
   "outputs": [],
   "source": [
    "def generate_random_solution():\n",
    "    return {\n",
    "        \"id\": random.random(),\n",
    "        \"mode\": \"voronoi\",\n",
    "        \"trackSize\": random.randint(*track_size_range),\n",
    "        \"parents\": {\n",
    "            \"parent1\": None,\n",
    "            \"parent2\": None\n",
    "        },\n",
    "        \"dataSet\": [{\"x\": random.uniform(0, 600), \"y\": random.uniform(0, 600)} for _ in range(POINTS_COUNT)],\n",
    "        \"selectedCells\": []\n",
    "    }\n",
    "\n",
    "# Function to convert solution array to dict\n",
    "def solution_to_dict(solution):\n",
    "    dataSet = [{\"x\": solution[i], \"y\": solution[i+1]} for i in range(POINTS_COUNT*2)]\n",
    "    selectedCells = [{\"x\": solution[i], \"y\": solution[i+1]} \n",
    "                     for i in range(POINTS_COUNT*2, solution_dim, 2) \n",
    "                     if solution[i] != 0 or solution[i+1] != 0]  # Ignore (0,0) cells\n",
    "    return {\n",
    "        \"mode\": \"voronoi\",\n",
    "        \"trackSize\": len(selectedCells),\n",
    "        \"dataSet\": dataSet,\n",
    "        \"selectedCells\": selectedCells\n",
    "    }\n",
    "\n",
    "def dict_to_solution_array(solution_dict):\n",
    "    return np.array([point['x'] for point in solution_dict['dataSet']] +\n",
    "                    [point['y'] for point in solution_dict['dataSet']])\n",
    "\n",
    "# Evaluation function\n",
    "def evaluate_solution(solution):\n",
    "    solution_dict = solution_to_dict(solution)\n",
    "    try:\n",
    "        response = requests.post(f'{BASE_URL}/evaluate', json=solution_dict)\n",
    "        result = response.json()\n",
    "        fitness = result['fitness']\n",
    "        objective = -(fitness['deltaX'] + fitness['deltaY'])\n",
    "        measures = [result['trackSize'], fitness['length']]\n",
    "        \n",
    "        # Update solution with actual selectedCells\n",
    "        selected_cells = result['selectedCells']\n",
    "        for i, cell in enumerate(selected_cells):\n",
    "            if i < MAX_SELECTED_CELLS:\n",
    "                solution[POINTS_COUNT*2 + i*2] = cell['x']\n",
    "                solution[POINTS_COUNT*2 + i*2 + 1] = cell['y']\n",
    "        \n",
    "        # Fill remaining selectedCells slots with zeros if any\n",
    "        for i in range(len(selected_cells), MAX_SELECTED_CELLS):\n",
    "            solution[POINTS_COUNT*2 + i*2] = 0\n",
    "            solution[POINTS_COUNT*2 + i*2 + 1] = 0\n",
    "        \n",
    "        return objective, measures, solution\n",
    "    except Exception as e:\n",
    "        print(f\"Error in evaluate_solution: {e}\")\n",
    "        return float('-inf'), [-1, -1], solution\n"
   ]
  },
  {
   "cell_type": "markdown",
   "metadata": {},
   "source": [
    "## Illuminating search spaces by mapping elites\n"
   ]
  },
  {
   "cell_type": "code",
   "execution_count": 7,
   "metadata": {},
   "outputs": [],
   "source": [
    "def run_map_elites(iterations):\n",
    "    for itr in range(1, iterations + 1):\n",
    "        # Request solutions from the scheduler\n",
    "        solutions = scheduler.ask()\n",
    "        \n",
    "        # Evaluate the solutions\n",
    "        objectives = []\n",
    "        measures_list = []\n",
    "        for i, solution in enumerate(solutions):\n",
    "            obj, measures, updated_solution = evaluate_solution(solution)\n",
    "            obj, measures, new_track_size, selected_cells = evaluate_solution(solution, track_size)\n",
    "            objectives.append(obj)\n",
    "            measures_list.append(measures)\n",
    "            solutions[i] = updated_solution  # Update the solution with actual selectedCells\n",
    "            \n",
    "        # Send the results back to the scheduler\n",
    "        scheduler.tell(objectives, measures_list, solutions)\n",
    "        \n",
    "        # Logging\n",
    "        if itr % 100 == 0:\n",
    "            print(f\"> {itr} itrs completed\")\n",
    "            print(f\"  - Archive size: {len(archive)}\")\n",
    "            print(f\"  - Archive coverage: {archive.stats.coverage}\")\n",
    "\n",
    "    return archive"
   ]
  },
  {
   "cell_type": "code",
   "execution_count": 8,
   "metadata": {},
   "outputs": [
    {
     "ename": "KeyError",
     "evalue": "'trackSize'",
     "output_type": "error",
     "traceback": [
      "\u001b[1;31m---------------------------------------------------------------------------\u001b[0m",
      "\u001b[1;31mKeyError\u001b[0m                                  Traceback (most recent call last)",
      "Cell \u001b[1;32mIn[8], line 1\u001b[0m\n\u001b[1;32m----> 1\u001b[0m final_archive \u001b[38;5;241m=\u001b[39m \u001b[43mrun_map_elites\u001b[49m\u001b[43m(\u001b[49m\u001b[38;5;241;43m10\u001b[39;49m\u001b[43m)\u001b[49m \n",
      "Cell \u001b[1;32mIn[7], line 12\u001b[0m, in \u001b[0;36mrun_map_elites\u001b[1;34m(iterations)\u001b[0m\n\u001b[0;32m      9\u001b[0m \u001b[38;5;28;01mfor\u001b[39;00m solution \u001b[38;5;129;01min\u001b[39;00m solutions:\n\u001b[0;32m     10\u001b[0m     \u001b[38;5;66;03m# Use track_size from the archive if available, otherwise use default\u001b[39;00m\n\u001b[0;32m     11\u001b[0m     track_size \u001b[38;5;241m=\u001b[39m archive\u001b[38;5;241m.\u001b[39mget_elites()[\u001b[38;5;241m0\u001b[39m]\u001b[38;5;241m.\u001b[39mbehavior[\u001b[38;5;241m0\u001b[39m] \u001b[38;5;28;01mif\u001b[39;00m \u001b[38;5;28mlen\u001b[39m(archive) \u001b[38;5;241m>\u001b[39m \u001b[38;5;241m0\u001b[39m \u001b[38;5;28;01melse\u001b[39;00m track_size_range[\u001b[38;5;241m0\u001b[39m]\n\u001b[1;32m---> 12\u001b[0m     obj, measures, new_track_size \u001b[38;5;241m=\u001b[39m \u001b[43mevaluate_solution\u001b[49m\u001b[43m(\u001b[49m\u001b[43msolution\u001b[49m\u001b[43m,\u001b[49m\u001b[43m \u001b[49m\u001b[43mtrack_size\u001b[49m\u001b[43m)\u001b[49m\n\u001b[0;32m     13\u001b[0m     objectives\u001b[38;5;241m.\u001b[39mappend(obj)\n\u001b[0;32m     14\u001b[0m     measures_list\u001b[38;5;241m.\u001b[39mappend(measures)\n",
      "Cell \u001b[1;32mIn[6], line 38\u001b[0m, in \u001b[0;36mevaluate_solution\u001b[1;34m(solution_array, track_size)\u001b[0m\n\u001b[0;32m     36\u001b[0m     result \u001b[38;5;241m=\u001b[39m response\u001b[38;5;241m.\u001b[39mjson()\n\u001b[0;32m     37\u001b[0m     objective \u001b[38;5;241m=\u001b[39m \u001b[38;5;241m-\u001b[39m(result[\u001b[38;5;124m'\u001b[39m\u001b[38;5;124mfitness\u001b[39m\u001b[38;5;124m'\u001b[39m][\u001b[38;5;124m'\u001b[39m\u001b[38;5;124mdeltaX\u001b[39m\u001b[38;5;124m'\u001b[39m] \u001b[38;5;241m+\u001b[39m result[\u001b[38;5;124m'\u001b[39m\u001b[38;5;124mfitness\u001b[39m\u001b[38;5;124m'\u001b[39m][\u001b[38;5;124m'\u001b[39m\u001b[38;5;124mdeltaY\u001b[39m\u001b[38;5;124m'\u001b[39m])\n\u001b[1;32m---> 38\u001b[0m     measures \u001b[38;5;241m=\u001b[39m [\u001b[43mresult\u001b[49m\u001b[43m[\u001b[49m\u001b[38;5;124;43m'\u001b[39;49m\u001b[38;5;124;43mtrackSize\u001b[39;49m\u001b[38;5;124;43m'\u001b[39;49m\u001b[43m]\u001b[49m, result[\u001b[38;5;124m'\u001b[39m\u001b[38;5;124mfitness\u001b[39m\u001b[38;5;124m'\u001b[39m][\u001b[38;5;124m'\u001b[39m\u001b[38;5;124mlength\u001b[39m\u001b[38;5;124m'\u001b[39m]]\n\u001b[0;32m     39\u001b[0m     \u001b[38;5;28;01mreturn\u001b[39;00m objective, measures, result[\u001b[38;5;124m'\u001b[39m\u001b[38;5;124mtrackSize\u001b[39m\u001b[38;5;124m'\u001b[39m]\n\u001b[0;32m     40\u001b[0m \u001b[38;5;28;01mexcept\u001b[39;00m requests\u001b[38;5;241m.\u001b[39mRequestException \u001b[38;5;28;01mas\u001b[39;00m e:\n",
      "\u001b[1;31mKeyError\u001b[0m: 'trackSize'"
     ]
    }
   ],
   "source": [
    "final_archive = run_map_elites(10) "
   ]
  },
  {
   "cell_type": "markdown",
   "metadata": {},
   "source": [
    "## Visualize Results"
   ]
  },
  {
   "cell_type": "code",
   "execution_count": null,
   "metadata": {},
   "outputs": [],
   "source": [
    "plt.figure(figsize=(10, 8))\n",
    "grid_archive_heatmap(final_archive)\n",
    "plt.title(\"MAP-Elites Archive\")\n",
    "plt.xlabel(\"Track Size\")\n",
    "plt.ylabel(\"Track Length\")\n",
    "plt.show()"
   ]
  },
  {
   "cell_type": "markdown",
   "metadata": {},
   "source": [
    "## Archive Statistics"
   ]
  },
  {
   "cell_type": "code",
   "execution_count": null,
   "metadata": {},
   "outputs": [],
   "source": [
    "print(f\"Total solutions: {len(final_archive)}\")\n",
    "print(f\"Best solution: Objective = {final_archive.stats.obj_max}\")\n",
    "best_solution = final_archive.elite_with_behavior(final_archive.best)\n",
    "print(f\"Best solution measures: {best_solution.behavior}\")\n",
    "\n",
    "best_track = solution_array_to_dict(best_solution.solution, best_solution.behavior[0])\n",
    "print(\"Best track data:\", json.dumps(best_track, indent=2))"
   ]
  }
 ],
 "metadata": {
  "kernelspec": {
   "display_name": "Python 3",
   "language": "python",
   "name": "python3"
  },
  "language_info": {
   "codemirror_mode": {
    "name": "ipython",
    "version": 3
   },
   "file_extension": ".py",
   "mimetype": "text/x-python",
   "name": "python",
   "nbconvert_exporter": "python",
   "pygments_lexer": "ipython3",
   "version": "3.11.9"
  }
 },
 "nbformat": 4,
 "nbformat_minor": 4
}
