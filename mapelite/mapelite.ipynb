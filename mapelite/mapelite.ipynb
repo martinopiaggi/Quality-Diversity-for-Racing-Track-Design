{
 "cells": [
  {
   "cell_type": "markdown",
   "metadata": {},
   "source": [
    "# MAP-Elites using pyribs"
   ]
  },
  {
   "cell_type": "code",
   "execution_count": null,
   "metadata": {},
   "outputs": [],
   "source": [
    "pip install \"ribs[visualize]\"\n",
    "pip install matplotlib"
   ]
  },
  {
   "cell_type": "code",
   "execution_count": null,
   "metadata": {},
   "outputs": [],
   "source": [
    "import numpy as np\n",
    "from ribs.archives import GridArchive\n",
    "from ribs.emitters import EvolutionStrategyEmitter\n",
    "from ribs.schedulers import Scheduler\n",
    "from ribs.visualize import grid_archive_heatmap\n",
    "import matplotlib.pyplot as plt"
   ]
  },
  {
   "cell_type": "markdown",
   "metadata": {},
   "source": [
    "## Define the MAP-Elites Algorithm"
   ]
  },
  {
   "cell_type": "code",
   "execution_count": null,
   "metadata": {},
   "outputs": [],
   "source": [
    "def run_map_elites(iterations, solution_dim=10, archive_dims=[20, 20]):\n",
    "    archive = GridArchive(\n",
    "        solution_dim=solution_dim,\n",
    "        dims=archive_dims,\n",
    "        ranges=[(-1, 1), (-1, 1)],\n",
    "    )\n",
    "    emitters = [\n",
    "        EvolutionStrategyEmitter(\n",
    "            archive,\n",
    "            x0=[0.0] * solution_dim,\n",
    "            sigma0=0.1,\n",
    "        ) for _ in range(3)\n",
    "    ]\n",
    "    scheduler = Scheduler(archive, emitters)\n",
    "\n",
    "    for itr in range(iterations):\n",
    "        solutions = scheduler.ask()\n",
    "        \n",
    "        # Negative sphere function\n",
    "        objectives = -np.sum(np.square(solutions), axis=1)\n",
    "        \n",
    "        # Use first two dimensions as measures\n",
    "        measures = solutions[:, :2]\n",
    "        \n",
    "        scheduler.tell(objectives, measures)\n",
    "    \n",
    "    return archive"
   ]
  },
  {
   "cell_type": "markdown",
   "metadata": {},
   "source": [
    "## Run MAP-Elites"
   ]
  },
  {
   "cell_type": "code",
   "execution_count": null,
   "metadata": {},
   "outputs": [],
   "source": [
    "iterations = 1000\n",
    "archive = run_map_elites(iterations)\n",
    "print(f\"MAP-Elites completed after {iterations} iterations.\")"
   ]
  },
  {
   "cell_type": "markdown",
   "metadata": {},
   "source": [
    "## Visualize Results"
   ]
  },
  {
   "cell_type": "code",
   "execution_count": null,
   "metadata": {},
   "outputs": [],
   "source": [
    "plt.figure(figsize=(8, 6))\n",
    "grid_archive_heatmap(archive)\n",
    "plt.title(f\"MAP-Elites Archive after {iterations} iterations\")\n",
    "plt.show()"
   ]
  },
  {
   "cell_type": "markdown",
   "metadata": {},
   "source": [
    "## Archive Statistics"
   ]
  },
  {
   "cell_type": "code",
   "execution_count": null,
   "metadata": {},
   "outputs": [],
   "source": [
    "print(f\"Archive coverage: {archive.stats.coverage}\")\n",
    "print(f\"Maximum objective: {archive.stats.obj_max}\")\n",
    "print(f\"Average objective: {archive.stats.obj_mean}\")"
   ]
  }
 ],
 "metadata": {
  "kernelspec": {
   "display_name": "Python 3",
   "language": "python",
   "name": "python3"
  },
  "language_info": {
   "codemirror_mode": {
    "name": "ipython",
    "version": 3
   },
   "file_extension": ".py",
   "mimetype": "text/x-python",
   "name": "python",
   "nbconvert_exporter": "python",
   "pygments_lexer": "ipython3",
   "version": "3.11.9"
  }
 },
 "nbformat": 4,
 "nbformat_minor": 4
}
