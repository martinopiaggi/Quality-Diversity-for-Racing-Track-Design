{
 "cells": [
  {
   "cell_type": "code",
   "execution_count": null,
   "metadata": {},
   "outputs": [],
   "source": [
    "import requests\n",
    "import json\n",
    "import random\n",
    "\n",
    "BASE_URL = \"http://localhost:4242\"\n",
    "\n",
    "def log_request(endpoint, payload):\n",
    "    print(f\"\\n--- Request to {endpoint} ---\")\n",
    "    print(f\"Payload: {json.dumps(payload, indent=2)}\")\n",
    "\n",
    "def log_response(response):\n",
    "    print(\"\\n--- Response ---\")\n",
    "    print(f\"Status Code: {response.status_code}\")\n",
    "    print(f\"Response JSON: {json.dumps(response.json(), indent=2)}\")\n",
    "\n",
    "def generate_random_track(mode=\"voronoi\",track_size=4):\n",
    "    if mode == \"voronoi\":\n",
    "        rangeDataset = 50\n",
    "    else: \n",
    "        rangeDataset = track_size\n",
    "    return {\n",
    "        \"id\": random.random(),\n",
    "        \"mode\": mode,\n",
    "        \"trackSize\": track_size,\n",
    "        \"parents\": {\n",
    "            \"parent1\": None,\n",
    "            \"parent2\": None\n",
    "        },\n",
    "        \"dataSet\": [{\"x\": random.uniform(0, 600), \"y\": random.uniform(0, 600)} for _ in range(rangeDataset)],\n",
    "        \"selectedCells\" : []\n",
    "    }\n",
    "\n",
    "def test_evaluate():\n",
    "    print(\"\\n=== Testing /evaluate endpoint ===\")\n",
    "    endpoint = f\"{BASE_URL}/evaluate\"\n",
    "    payload = generate_random_track()\n",
    "    log_request(endpoint, payload)\n",
    "    response = requests.post(endpoint, json=payload)\n",
    "    log_response(response)\n",
    "\n",
    "def test_crossover():\n",
    "    print(\"\\n=== Testing /crossover endpoint ===\")\n",
    "    endpoint = f\"{BASE_URL}/crossover\"\n",
    "    payload = {\n",
    "        \"mode\": \"voronoi\",\n",
    "        \"parent1\": generate_random_track(),\n",
    "        \"parent2\": generate_random_track()\n",
    "    }\n",
    "    log_request(endpoint, payload)\n",
    "    response = requests.post(endpoint, json=payload)\n",
    "    log_response(response)\n",
    "\n",
    "def test_mutate():\n",
    "    print(\"\\n=== Testing /mutate endpoint ===\")\n",
    "    endpoint = f\"{BASE_URL}/mutate\"\n",
    "    track = generate_random_track(\"convexHull\",15)\n",
    "    payload = {\n",
    "        \"individual\": track,\n",
    "        \"intensityMutation\": 10  \n",
    "    }\n",
    "    log_request(endpoint, payload)\n",
    "    response = requests.post(endpoint, json=payload)\n",
    "    log_response(response)"
   ]
  },
  {
   "cell_type": "code",
   "execution_count": null,
   "metadata": {},
   "outputs": [],
   "source": [
    "test_evaluate()\n",
    "test_crossover()\n",
    "test_mutate()\n"
   ]
  }
 ],
 "metadata": {
  "kernelspec": {
   "display_name": "Python 3",
   "language": "python",
   "name": "python3"
  },
  "language_info": {
   "codemirror_mode": {
    "name": "ipython",
    "version": 3
   },
   "file_extension": ".py",
   "mimetype": "text/x-python",
   "name": "python",
   "nbconvert_exporter": "python",
   "pygments_lexer": "ipython3",
   "version": "3.11.9"
  }
 },
 "nbformat": 4,
 "nbformat_minor": 2
}
